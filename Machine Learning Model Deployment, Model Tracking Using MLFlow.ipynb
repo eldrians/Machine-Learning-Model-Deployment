{
 "cells": [
  {
   "cell_type": "markdown",
   "metadata": {
    "id": "GcR72fYU4rm7"
   },
   "source": [
    "# Use Case Summary\n",
    "\n",
    "## Objective Statement\n",
    "Get an insight about how much the company spend on marketing budget\n",
    "\n",
    "Get an insight about how much sales based on marketing budget\n",
    "\n",
    "Get an insight about the correlation between marketing budget and sales\n",
    "\n",
    "Get an insight about marketing strategy or planning based the model prediction\n",
    "\n",
    "Create models to predict sales with simple linear regretion\n",
    "\n",
    "Deploy the model using MLflow deployment\n",
    "\n",
    "\n",
    "## Challenges\n",
    "\n",
    "There is no explanation for each column\n",
    "\n",
    "## Methodology / Analytic Technique\n",
    "\n",
    "Descriptive analysis\n",
    "\n",
    "Graph analysis\n",
    "\n",
    "Modeling using Simple Linear Regression\n",
    "\n",
    "Deployment using MLflow\n",
    "\n",
    "\n",
    "# Business Benefit\n",
    "\n",
    "Help Business to make decision about marketing strategy based on the prediction\n",
    "\n",
    "\n",
    "## Expected Outcome\n",
    "\n",
    "Get to know about how much the company spend on marketing budget\n",
    "\n",
    "Get to know about how much sales based on marketing budget\n",
    "\n",
    "Get to know about the correlation between marketing budget and sales\n",
    "\n",
    "Recommendation based on model prediction\n",
    "\n",
    "Making models to predict sales\n",
    "\n",
    "Deploy the model using MLflow\n",
    "\n",
    "\n",
    "## Business Understanding\n",
    "\n",
    "A marketing budget is the sum of money a company assigns to marketing projects (paid advertising, sponsored content, etc.) aimed at product promotion. It helps startups and established companies manage resources efficiently and achieve business goals.\n",
    "\n",
    "this case has some business question using the data:\n",
    "\n",
    "how much the company spend on marketing budget?\n",
    "\n",
    "how much sales based on marketing budget?\n",
    "\n",
    "is there any correlation between marketing budget and sales?\n",
    "\n",
    "how about the recommendation based on the model prediction?\n",
    "\n",
    "\n",
    "# Data Understanding\n",
    "\n",
    "## Source Data\n",
    "\n",
    "Sorce Data: https://www.kaggle.com/code/devzohaib/simple-linear-regression/notebook\n",
    "\n",
    "200 rows\n",
    "\n",
    "2 columns\n",
    "\n",
    "\n",
    "## Data Dictionary\n",
    "\n",
    "Tv = marketing budget\n",
    "\n",
    "Sales = total sales\n",
    "\n",
    "\n",
    "# Data Preparation\n",
    "Python version : 3.9.12\n",
    "\n",
    "Packages Version : Pandas, numpy, matplotlib, seaborn, and sklearn, mlflow\n"
   ]
  },
  {
   "cell_type": "markdown",
   "metadata": {
    "id": "aebt71tQBH8o"
   },
   "source": [
    "**we import the required package**"
   ]
  },
  {
   "cell_type": "code",
   "execution_count": 1,
   "metadata": {
    "id": "guGlttq3wRuV"
   },
   "outputs": [],
   "source": [
    "import pandas as pd\n",
    "import numpy as np\n",
    "import matplotlib.pyplot as plt\n",
    "import seaborn as sns\n",
    "from sklearn.linear_model import LinearRegression\n",
    "from sklearn.model_selection import train_test_split\n",
    "from sklearn.model_selection import GridSearchCV\n",
    "from sklearn.preprocessing import StandardScaler\n",
    "from sklearn.preprocessing import MinMaxScaler\n",
    "from sklearn.model_selection import cross_val_score\n",
    "from sklearn.metrics import mean_absolute_error\n",
    "from sklearn.metrics import mean_absolute_percentage_error\n",
    "from sklearn.metrics import mean_squared_error \n",
    "from sklearn.metrics import r2_score\n",
    "\n",
    "import warnings\n",
    "warnings.filterwarnings('ignore')"
   ]
  },
  {
   "cell_type": "code",
   "execution_count": 2,
   "metadata": {
    "colab": {
     "base_uri": "https://localhost:8080/"
    },
    "id": "qzqKWl0d4Ww0",
    "outputId": "b9dad678-e3f1-46a5-cf64-71533306428c"
   },
   "outputs": [
    {
     "name": "stdout",
     "output_type": "stream",
     "text": [
      "Defaulting to user installation because normal site-packages is not writeable\n",
      "Requirement already satisfied: mlflow in c:\\users\\user\\appdata\\roaming\\python\\python39\\site-packages (1.30.0)\n",
      "Requirement already satisfied: click<9,>=7.0 in c:\\programdata\\anaconda3\\lib\\site-packages (from mlflow) (8.0.4)\n",
      "Requirement already satisfied: gitpython<4,>=2.1.0 in c:\\users\\user\\appdata\\roaming\\python\\python39\\site-packages (from mlflow) (3.1.29)\n",
      "Requirement already satisfied: scipy<2 in c:\\programdata\\anaconda3\\lib\\site-packages (from mlflow) (1.7.3)\n",
      "Requirement already satisfied: querystring-parser<2 in c:\\users\\user\\appdata\\roaming\\python\\python39\\site-packages (from mlflow) (1.2.4)\n",
      "Requirement already satisfied: sqlalchemy<2,>=1.4.0 in c:\\programdata\\anaconda3\\lib\\site-packages (from mlflow) (1.4.32)\n",
      "Requirement already satisfied: requests<3,>=2.17.3 in c:\\programdata\\anaconda3\\lib\\site-packages (from mlflow) (2.27.1)\n",
      "Requirement already satisfied: alembic<2 in c:\\users\\user\\appdata\\roaming\\python\\python39\\site-packages (from mlflow) (1.8.1)\n",
      "Requirement already satisfied: docker<7,>=4.0.0 in c:\\users\\user\\appdata\\roaming\\python\\python39\\site-packages (from mlflow) (6.0.1)\n",
      "Requirement already satisfied: packaging<22 in c:\\programdata\\anaconda3\\lib\\site-packages (from mlflow) (21.3)\n",
      "Requirement already satisfied: sqlparse<1,>=0.4.0 in c:\\users\\user\\appdata\\roaming\\python\\python39\\site-packages (from mlflow) (0.4.3)\n",
      "Requirement already satisfied: pandas<2 in c:\\programdata\\anaconda3\\lib\\site-packages (from mlflow) (1.4.2)\n",
      "Requirement already satisfied: protobuf<5,>=3.12.0 in c:\\programdata\\anaconda3\\lib\\site-packages (from mlflow) (3.19.1)\n",
      "Requirement already satisfied: importlib-metadata!=4.7.0,<6,>=3.7.0 in c:\\programdata\\anaconda3\\lib\\site-packages (from mlflow) (4.11.3)\n",
      "Requirement already satisfied: entrypoints<1 in c:\\programdata\\anaconda3\\lib\\site-packages (from mlflow) (0.4)\n",
      "Requirement already satisfied: waitress<3 in c:\\users\\user\\appdata\\roaming\\python\\python39\\site-packages (from mlflow) (2.1.2)\n",
      "Requirement already satisfied: pytz<2023 in c:\\programdata\\anaconda3\\lib\\site-packages (from mlflow) (2021.3)\n",
      "Requirement already satisfied: pyyaml<7,>=5.1 in c:\\programdata\\anaconda3\\lib\\site-packages (from mlflow) (6.0)\n",
      "Requirement already satisfied: Flask<3 in c:\\programdata\\anaconda3\\lib\\site-packages (from mlflow) (1.1.2)\n",
      "Requirement already satisfied: prometheus-flask-exporter<1 in c:\\users\\user\\appdata\\roaming\\python\\python39\\site-packages (from mlflow) (0.21.0)\n",
      "Requirement already satisfied: cloudpickle<3 in c:\\programdata\\anaconda3\\lib\\site-packages (from mlflow) (2.0.0)\n",
      "Requirement already satisfied: databricks-cli<1,>=0.8.7 in c:\\users\\user\\appdata\\roaming\\python\\python39\\site-packages (from mlflow) (0.17.3)\n",
      "Requirement already satisfied: numpy<2 in c:\\programdata\\anaconda3\\lib\\site-packages (from mlflow) (1.21.5)\n",
      "Requirement already satisfied: Mako in c:\\users\\user\\appdata\\roaming\\python\\python39\\site-packages (from alembic<2->mlflow) (1.2.3)\n",
      "Requirement already satisfied: colorama in c:\\programdata\\anaconda3\\lib\\site-packages (from click<9,>=7.0->mlflow) (0.4.4)\n",
      "Requirement already satisfied: six>=1.10.0 in c:\\programdata\\anaconda3\\lib\\site-packages (from databricks-cli<1,>=0.8.7->mlflow) (1.16.0)\n",
      "Requirement already satisfied: oauthlib>=3.1.0 in c:\\users\\user\\appdata\\roaming\\python\\python39\\site-packages (from databricks-cli<1,>=0.8.7->mlflow) (3.2.2)\n",
      "Requirement already satisfied: tabulate>=0.7.7 in c:\\programdata\\anaconda3\\lib\\site-packages (from databricks-cli<1,>=0.8.7->mlflow) (0.8.9)\n",
      "Requirement already satisfied: pyjwt>=1.7.0 in c:\\programdata\\anaconda3\\lib\\site-packages (from databricks-cli<1,>=0.8.7->mlflow) (2.1.0)\n",
      "Requirement already satisfied: pywin32>=304 in c:\\users\\user\\appdata\\roaming\\python\\python39\\site-packages (from docker<7,>=4.0.0->mlflow) (305)\n",
      "Requirement already satisfied: urllib3>=1.26.0 in c:\\programdata\\anaconda3\\lib\\site-packages (from docker<7,>=4.0.0->mlflow) (1.26.9)\n",
      "Requirement already satisfied: websocket-client>=0.32.0 in c:\\programdata\\anaconda3\\lib\\site-packages (from docker<7,>=4.0.0->mlflow) (0.58.0)\n",
      "Requirement already satisfied: Werkzeug>=0.15 in c:\\programdata\\anaconda3\\lib\\site-packages (from Flask<3->mlflow) (2.0.3)\n",
      "Requirement already satisfied: itsdangerous>=0.24 in c:\\programdata\\anaconda3\\lib\\site-packages (from Flask<3->mlflow) (2.0.1)\n",
      "Requirement already satisfied: Jinja2>=2.10.1 in c:\\programdata\\anaconda3\\lib\\site-packages (from Flask<3->mlflow) (2.11.3)\n",
      "Requirement already satisfied: gitdb<5,>=4.0.1 in c:\\users\\user\\appdata\\roaming\\python\\python39\\site-packages (from gitpython<4,>=2.1.0->mlflow) (4.0.9)\n",
      "Requirement already satisfied: smmap<6,>=3.0.1 in c:\\programdata\\anaconda3\\lib\\site-packages (from gitdb<5,>=4.0.1->gitpython<4,>=2.1.0->mlflow) (5.0.0)\n",
      "Requirement already satisfied: zipp>=0.5 in c:\\programdata\\anaconda3\\lib\\site-packages (from importlib-metadata!=4.7.0,<6,>=3.7.0->mlflow) (3.7.0)\n",
      "Requirement already satisfied: MarkupSafe>=0.23 in c:\\programdata\\anaconda3\\lib\\site-packages (from Jinja2>=2.10.1->Flask<3->mlflow) (2.0.1)\n",
      "Requirement already satisfied: pyparsing!=3.0.5,>=2.0.2 in c:\\programdata\\anaconda3\\lib\\site-packages (from packaging<22->mlflow) (3.0.4)\n",
      "Requirement already satisfied: python-dateutil>=2.8.1 in c:\\programdata\\anaconda3\\lib\\site-packages (from pandas<2->mlflow) (2.8.2)\n",
      "Requirement already satisfied: prometheus-client in c:\\programdata\\anaconda3\\lib\\site-packages (from prometheus-flask-exporter<1->mlflow) (0.13.1)\n",
      "Requirement already satisfied: charset-normalizer~=2.0.0 in c:\\programdata\\anaconda3\\lib\\site-packages (from requests<3,>=2.17.3->mlflow) (2.0.4)\n",
      "Requirement already satisfied: idna<4,>=2.5 in c:\\programdata\\anaconda3\\lib\\site-packages (from requests<3,>=2.17.3->mlflow) (3.3)\n",
      "Requirement already satisfied: certifi>=2017.4.17 in c:\\programdata\\anaconda3\\lib\\site-packages (from requests<3,>=2.17.3->mlflow) (2021.10.8)\n",
      "Requirement already satisfied: greenlet!=0.4.17 in c:\\programdata\\anaconda3\\lib\\site-packages (from sqlalchemy<2,>=1.4.0->mlflow) (1.1.1)\n"
     ]
    }
   ],
   "source": [
    "#pip install mlflow"
   ]
  },
  {
   "cell_type": "code",
   "execution_count": 3,
   "metadata": {
    "colab": {
     "base_uri": "https://localhost:8080/"
    },
    "id": "-EqCxTySs2kp",
    "outputId": "7ee6844a-2628-4340-9373-036899ce528c"
   },
   "outputs": [
    {
     "name": "stdout",
     "output_type": "stream",
     "text": [
      "Defaulting to user installation because normal site-packages is not writeable\n",
      "Requirement already satisfied: mlflow[extras] in c:\\users\\user\\appdata\\roaming\\python\\python39\\site-packages (1.30.0)\n",
      "Requirement already satisfied: scipy<2 in c:\\programdata\\anaconda3\\lib\\site-packages (from mlflow[extras]) (1.7.3)\n",
      "Requirement already satisfied: pandas<2 in c:\\programdata\\anaconda3\\lib\\site-packages (from mlflow[extras]) (1.4.2)\n",
      "Requirement already satisfied: click<9,>=7.0 in c:\\programdata\\anaconda3\\lib\\site-packages (from mlflow[extras]) (8.0.4)\n",
      "Requirement already satisfied: importlib-metadata!=4.7.0,<6,>=3.7.0 in c:\\programdata\\anaconda3\\lib\\site-packages (from mlflow[extras]) (4.11.3)\n",
      "Requirement already satisfied: databricks-cli<1,>=0.8.7 in c:\\users\\user\\appdata\\roaming\\python\\python39\\site-packages (from mlflow[extras]) (0.17.3)\n",
      "Requirement already satisfied: prometheus-flask-exporter<1 in c:\\users\\user\\appdata\\roaming\\python\\python39\\site-packages (from mlflow[extras]) (0.21.0)\n",
      "Requirement already satisfied: sqlparse<1,>=0.4.0 in c:\\users\\user\\appdata\\roaming\\python\\python39\\site-packages (from mlflow[extras]) (0.4.3)\n",
      "Requirement already satisfied: pytz<2023 in c:\\programdata\\anaconda3\\lib\\site-packages (from mlflow[extras]) (2021.3)\n",
      "Requirement already satisfied: protobuf<5,>=3.12.0 in c:\\programdata\\anaconda3\\lib\\site-packages (from mlflow[extras]) (3.19.1)\n",
      "Requirement already satisfied: packaging<22 in c:\\programdata\\anaconda3\\lib\\site-packages (from mlflow[extras]) (21.3)\n",
      "Requirement already satisfied: alembic<2 in c:\\users\\user\\appdata\\roaming\\python\\python39\\site-packages (from mlflow[extras]) (1.8.1)\n",
      "Requirement already satisfied: numpy<2 in c:\\programdata\\anaconda3\\lib\\site-packages (from mlflow[extras]) (1.21.5)\n",
      "Requirement already satisfied: gitpython<4,>=2.1.0 in c:\\users\\user\\appdata\\roaming\\python\\python39\\site-packages (from mlflow[extras]) (3.1.29)\n",
      "Requirement already satisfied: querystring-parser<2 in c:\\users\\user\\appdata\\roaming\\python\\python39\\site-packages (from mlflow[extras]) (1.2.4)\n",
      "Requirement already satisfied: pyyaml<7,>=5.1 in c:\\programdata\\anaconda3\\lib\\site-packages (from mlflow[extras]) (6.0)\n",
      "Requirement already satisfied: cloudpickle<3 in c:\\programdata\\anaconda3\\lib\\site-packages (from mlflow[extras]) (2.0.0)\n",
      "Requirement already satisfied: waitress<3 in c:\\users\\user\\appdata\\roaming\\python\\python39\\site-packages (from mlflow[extras]) (2.1.2)\n",
      "Requirement already satisfied: requests<3,>=2.17.3 in c:\\programdata\\anaconda3\\lib\\site-packages (from mlflow[extras]) (2.27.1)\n",
      "Requirement already satisfied: sqlalchemy<2,>=1.4.0 in c:\\programdata\\anaconda3\\lib\\site-packages (from mlflow[extras]) (1.4.32)\n",
      "Requirement already satisfied: docker<7,>=4.0.0 in c:\\users\\user\\appdata\\roaming\\python\\python39\\site-packages (from mlflow[extras]) (6.0.1)\n",
      "Requirement already satisfied: entrypoints<1 in c:\\programdata\\anaconda3\\lib\\site-packages (from mlflow[extras]) (0.4)\n",
      "Requirement already satisfied: Flask<3 in c:\\programdata\\anaconda3\\lib\\site-packages (from mlflow[extras]) (1.1.2)\n",
      "Requirement already satisfied: google-cloud-storage>=1.30.0 in c:\\programdata\\anaconda3\\lib\\site-packages (from mlflow[extras]) (1.31.0)\n",
      "Requirement already satisfied: pyarrow in c:\\programdata\\anaconda3\\lib\\site-packages (from mlflow[extras]) (10.0.0)\n",
      "Requirement already satisfied: scikit-learn in c:\\programdata\\anaconda3\\lib\\site-packages (from mlflow[extras]) (1.0.2)\n",
      "Requirement already satisfied: boto3 in c:\\programdata\\anaconda3\\lib\\site-packages (from mlflow[extras]) (1.21.32)\n",
      "Requirement already satisfied: mlserver-mlflow>=0.5.3 in c:\\programdata\\anaconda3\\lib\\site-packages (from mlflow[extras]) (1.1.0)\n",
      "Requirement already satisfied: mlserver>=0.5.3 in c:\\programdata\\anaconda3\\lib\\site-packages (from mlflow[extras]) (1.1.0)\n",
      "Requirement already satisfied: azureml-core>=1.2.0 in c:\\programdata\\anaconda3\\lib\\site-packages (from mlflow[extras]) (1.47.0)\n",
      "Requirement already satisfied: kubernetes in c:\\programdata\\anaconda3\\lib\\site-packages (from mlflow[extras]) (25.3.0)\n",
      "Requirement already satisfied: virtualenv in c:\\programdata\\anaconda3\\lib\\site-packages (from mlflow[extras]) (20.16.7)\n",
      "Requirement already satisfied: pysftp in c:\\programdata\\anaconda3\\lib\\site-packages (from mlflow[extras]) (0.2.9)\n",
      "Requirement already satisfied: requests-auth-aws-sigv4 in c:\\programdata\\anaconda3\\lib\\site-packages (from mlflow[extras]) (0.7)\n",
      "Requirement already satisfied: Mako in c:\\users\\user\\appdata\\roaming\\python\\python39\\site-packages (from alembic<2->mlflow[extras]) (1.2.3)\n",
      "Requirement already satisfied: msrestazure<=0.6.4,>=0.4.33 in c:\\programdata\\anaconda3\\lib\\site-packages (from azureml-core>=1.2.0->mlflow[extras]) (0.6.4)\n",
      "Requirement already satisfied: azure-mgmt-containerregistry<11,>=8.2.0 in c:\\programdata\\anaconda3\\lib\\site-packages (from azureml-core>=1.2.0->mlflow[extras]) (10.0.0)\n",
      "Requirement already satisfied: humanfriendly<11.0,>=4.7 in c:\\programdata\\anaconda3\\lib\\site-packages (from azureml-core>=1.2.0->mlflow[extras]) (10.0)\n",
      "Requirement already satisfied: azure-mgmt-authorization<3,>=0.40.0 in c:\\programdata\\anaconda3\\lib\\site-packages (from azureml-core>=1.2.0->mlflow[extras]) (2.0.0)\n",
      "Requirement already satisfied: SecretStorage<4.0.0 in c:\\programdata\\anaconda3\\lib\\site-packages (from azureml-core>=1.2.0->mlflow[extras]) (3.3.3)\n",
      "Requirement already satisfied: backports.tempfile in c:\\programdata\\anaconda3\\lib\\site-packages (from azureml-core>=1.2.0->mlflow[extras]) (1.0)\n",
      "Requirement already satisfied: azure-mgmt-storage<21.0.0,>=16.0.0 in c:\\programdata\\anaconda3\\lib\\site-packages (from azureml-core>=1.2.0->mlflow[extras]) (20.1.0)\n",
      "Requirement already satisfied: msrest<=0.7.1,>=0.5.1 in c:\\programdata\\anaconda3\\lib\\site-packages (from azureml-core>=1.2.0->mlflow[extras]) (0.7.1)\n",
      "Requirement already satisfied: adal<=1.2.7,>=1.2.0 in c:\\programdata\\anaconda3\\lib\\site-packages (from azureml-core>=1.2.0->mlflow[extras]) (1.2.7)\n",
      "Requirement already satisfied: azure-core<2.0.0 in c:\\programdata\\anaconda3\\lib\\site-packages (from azureml-core>=1.2.0->mlflow[extras]) (1.26.1)\n",
      "Requirement already satisfied: jsonpickle<3.0.0 in c:\\programdata\\anaconda3\\lib\\site-packages (from azureml-core>=1.2.0->mlflow[extras]) (2.2.0)\n",
      "Requirement already satisfied: contextlib2<22.0.0 in c:\\programdata\\anaconda3\\lib\\site-packages (from azureml-core>=1.2.0->mlflow[extras]) (21.6.0)\n",
      "Requirement already satisfied: msal-extensions<=1.0.0,>=0.3.0 in c:\\programdata\\anaconda3\\lib\\site-packages (from azureml-core>=1.2.0->mlflow[extras]) (1.0.0)\n",
      "Requirement already satisfied: msal<2.0.0,>=1.15.0 in c:\\programdata\\anaconda3\\lib\\site-packages (from azureml-core>=1.2.0->mlflow[extras]) (1.20.0)\n",
      "Requirement already satisfied: pathspec<1.0.0 in c:\\programdata\\anaconda3\\lib\\site-packages (from azureml-core>=1.2.0->mlflow[extras]) (0.7.0)\n",
      "Requirement already satisfied: paramiko<3.0.0,>=2.0.8 in c:\\programdata\\anaconda3\\lib\\site-packages (from azureml-core>=1.2.0->mlflow[extras]) (2.8.1)\n",
      "Requirement already satisfied: knack~=0.10.0 in c:\\programdata\\anaconda3\\lib\\site-packages (from azureml-core>=1.2.0->mlflow[extras]) (0.10.0)\n",
      "Requirement already satisfied: argcomplete<3 in c:\\programdata\\anaconda3\\lib\\site-packages (from azureml-core>=1.2.0->mlflow[extras]) (2.0.0)\n",
      "Requirement already satisfied: urllib3<2.0.0,>=1.23 in c:\\programdata\\anaconda3\\lib\\site-packages (from azureml-core>=1.2.0->mlflow[extras]) (1.26.9)\n",
      "Requirement already satisfied: azure-mgmt-resource<22.0.0,>=15.0.0 in c:\\programdata\\anaconda3\\lib\\site-packages (from azureml-core>=1.2.0->mlflow[extras]) (21.2.1)\n",
      "Requirement already satisfied: jmespath<2.0.0 in c:\\programdata\\anaconda3\\lib\\site-packages (from azureml-core>=1.2.0->mlflow[extras]) (0.10.0)\n",
      "Requirement already satisfied: azure-mgmt-keyvault<11.0.0,>=0.40.0 in c:\\programdata\\anaconda3\\lib\\site-packages (from azureml-core>=1.2.0->mlflow[extras]) (10.1.0)\n",
      "Requirement already satisfied: azure-common<2.0.0,>=1.1.12 in c:\\programdata\\anaconda3\\lib\\site-packages (from azureml-core>=1.2.0->mlflow[extras]) (1.1.28)\n",
      "Requirement already satisfied: cryptography!=1.9,!=2.0.*,!=2.1.*,!=2.2.*,<41 in c:\\programdata\\anaconda3\\lib\\site-packages (from azureml-core>=1.2.0->mlflow[extras]) (3.4.8)\n",
      "Requirement already satisfied: ndg-httpsclient<=0.5.1 in c:\\programdata\\anaconda3\\lib\\site-packages (from azureml-core>=1.2.0->mlflow[extras]) (0.5.1)\n",
      "Requirement already satisfied: azure-graphrbac<1.0.0,>=0.40.0 in c:\\programdata\\anaconda3\\lib\\site-packages (from azureml-core>=1.2.0->mlflow[extras]) (0.61.1)\n",
      "Requirement already satisfied: python-dateutil<3.0.0,>=2.7.3 in c:\\programdata\\anaconda3\\lib\\site-packages (from azureml-core>=1.2.0->mlflow[extras]) (2.8.2)\n",
      "Requirement already satisfied: PyJWT<3.0.0 in c:\\programdata\\anaconda3\\lib\\site-packages (from azureml-core>=1.2.0->mlflow[extras]) (2.1.0)\n",
      "Requirement already satisfied: pkginfo in c:\\programdata\\anaconda3\\lib\\site-packages (from azureml-core>=1.2.0->mlflow[extras]) (1.8.2)\n",
      "Requirement already satisfied: pyopenssl<23.0.0 in c:\\programdata\\anaconda3\\lib\\site-packages (from azureml-core>=1.2.0->mlflow[extras]) (21.0.0)\n",
      "Requirement already satisfied: typing-extensions>=4.0.1 in c:\\programdata\\anaconda3\\lib\\site-packages (from azure-core<2.0.0->azureml-core>=1.2.0->mlflow[extras]) (4.1.1)\n",
      "Requirement already satisfied: six>=1.11.0 in c:\\programdata\\anaconda3\\lib\\site-packages (from azure-core<2.0.0->azureml-core>=1.2.0->mlflow[extras]) (1.16.0)\n",
      "Requirement already satisfied: azure-mgmt-core<2.0.0,>=1.2.0 in c:\\programdata\\anaconda3\\lib\\site-packages (from azure-mgmt-authorization<3,>=0.40.0->azureml-core>=1.2.0->mlflow[extras]) (1.3.2)\n",
      "Requirement already satisfied: colorama in c:\\programdata\\anaconda3\\lib\\site-packages (from click<9,>=7.0->mlflow[extras]) (0.4.4)\n",
      "Requirement already satisfied: cffi>=1.12 in c:\\programdata\\anaconda3\\lib\\site-packages (from cryptography!=1.9,!=2.0.*,!=2.1.*,!=2.2.*,<41->azureml-core>=1.2.0->mlflow[extras]) (1.15.0)\n",
      "Requirement already satisfied: pycparser in c:\\programdata\\anaconda3\\lib\\site-packages (from cffi>=1.12->cryptography!=1.9,!=2.0.*,!=2.1.*,!=2.2.*,<41->azureml-core>=1.2.0->mlflow[extras]) (2.21)\n",
      "Requirement already satisfied: oauthlib>=3.1.0 in c:\\users\\user\\appdata\\roaming\\python\\python39\\site-packages (from databricks-cli<1,>=0.8.7->mlflow[extras]) (3.2.2)\n",
      "Requirement already satisfied: tabulate>=0.7.7 in c:\\programdata\\anaconda3\\lib\\site-packages (from databricks-cli<1,>=0.8.7->mlflow[extras]) (0.8.9)\n",
      "Requirement already satisfied: pywin32>=304 in c:\\users\\user\\appdata\\roaming\\python\\python39\\site-packages (from docker<7,>=4.0.0->mlflow[extras]) (305)\n",
      "Requirement already satisfied: websocket-client>=0.32.0 in c:\\programdata\\anaconda3\\lib\\site-packages (from docker<7,>=4.0.0->mlflow[extras]) (0.58.0)\n",
      "Requirement already satisfied: Jinja2>=2.10.1 in c:\\programdata\\anaconda3\\lib\\site-packages (from Flask<3->mlflow[extras]) (2.11.3)\n",
      "Requirement already satisfied: itsdangerous>=0.24 in c:\\programdata\\anaconda3\\lib\\site-packages (from Flask<3->mlflow[extras]) (2.0.1)\n",
      "Requirement already satisfied: Werkzeug>=0.15 in c:\\programdata\\anaconda3\\lib\\site-packages (from Flask<3->mlflow[extras]) (2.0.3)\n",
      "Requirement already satisfied: gitdb<5,>=4.0.1 in c:\\users\\user\\appdata\\roaming\\python\\python39\\site-packages (from gitpython<4,>=2.1.0->mlflow[extras]) (4.0.9)\n",
      "Requirement already satisfied: smmap<6,>=3.0.1 in c:\\programdata\\anaconda3\\lib\\site-packages (from gitdb<5,>=4.0.1->gitpython<4,>=2.1.0->mlflow[extras]) (5.0.0)\n",
      "Requirement already satisfied: google-resumable-media<2.0dev,>=1.0.0 in c:\\programdata\\anaconda3\\lib\\site-packages (from google-cloud-storage>=1.30.0->mlflow[extras]) (1.3.1)\n",
      "Requirement already satisfied: google-auth<2.0dev,>=1.11.0 in c:\\programdata\\anaconda3\\lib\\site-packages (from google-cloud-storage>=1.30.0->mlflow[extras]) (1.33.0)\n",
      "Requirement already satisfied: google-cloud-core<2.0dev,>=1.4.1 in c:\\programdata\\anaconda3\\lib\\site-packages (from google-cloud-storage>=1.30.0->mlflow[extras]) (1.7.1)\n",
      "Requirement already satisfied: pyasn1-modules>=0.2.1 in c:\\programdata\\anaconda3\\lib\\site-packages (from google-auth<2.0dev,>=1.11.0->google-cloud-storage>=1.30.0->mlflow[extras]) (0.2.8)\n",
      "Requirement already satisfied: setuptools>=40.3.0 in c:\\programdata\\anaconda3\\lib\\site-packages (from google-auth<2.0dev,>=1.11.0->google-cloud-storage>=1.30.0->mlflow[extras]) (61.2.0)\n",
      "Requirement already satisfied: cachetools<5.0,>=2.0.0 in c:\\programdata\\anaconda3\\lib\\site-packages (from google-auth<2.0dev,>=1.11.0->google-cloud-storage>=1.30.0->mlflow[extras]) (4.2.2)\n",
      "Requirement already satisfied: rsa<5,>=3.1.4 in c:\\programdata\\anaconda3\\lib\\site-packages (from google-auth<2.0dev,>=1.11.0->google-cloud-storage>=1.30.0->mlflow[extras]) (4.7.2)\n",
      "Requirement already satisfied: google-api-core<2.0.0dev,>=1.21.0 in c:\\programdata\\anaconda3\\lib\\site-packages (from google-cloud-core<2.0dev,>=1.4.1->google-cloud-storage>=1.30.0->mlflow[extras]) (1.25.1)\n",
      "Requirement already satisfied: googleapis-common-protos<2.0dev,>=1.6.0 in c:\\programdata\\anaconda3\\lib\\site-packages (from google-api-core<2.0.0dev,>=1.21.0->google-cloud-core<2.0dev,>=1.4.1->google-cloud-storage>=1.30.0->mlflow[extras]) (1.53.0)\n",
      "Requirement already satisfied: google-crc32c<2.0dev,>=1.0 in c:\\programdata\\anaconda3\\lib\\site-packages (from google-resumable-media<2.0dev,>=1.0.0->google-cloud-storage>=1.30.0->mlflow[extras]) (1.1.2)\n",
      "Requirement already satisfied: pyreadline3 in c:\\programdata\\anaconda3\\lib\\site-packages (from humanfriendly<11.0,>=4.7->azureml-core>=1.2.0->mlflow[extras]) (3.4.1)\n",
      "Requirement already satisfied: zipp>=0.5 in c:\\programdata\\anaconda3\\lib\\site-packages (from importlib-metadata!=4.7.0,<6,>=3.7.0->mlflow[extras]) (3.7.0)\n",
      "Requirement already satisfied: MarkupSafe>=0.23 in c:\\programdata\\anaconda3\\lib\\site-packages (from Jinja2>=2.10.1->Flask<3->mlflow[extras]) (2.0.1)\n",
      "Requirement already satisfied: pygments in c:\\programdata\\anaconda3\\lib\\site-packages (from knack~=0.10.0->azureml-core>=1.2.0->mlflow[extras]) (2.11.2)\n",
      "Requirement already satisfied: aiokafka in c:\\programdata\\anaconda3\\lib\\site-packages (from mlserver>=0.5.3->mlflow[extras]) (0.7.2)\n",
      "Requirement already satisfied: py-grpc-prometheus in c:\\programdata\\anaconda3\\lib\\site-packages (from mlserver>=0.5.3->mlflow[extras]) (0.7.0)\n",
      "Requirement already satisfied: python-dotenv in c:\\programdata\\anaconda3\\lib\\site-packages (from mlserver>=0.5.3->mlflow[extras]) (0.21.0)\n",
      "Requirement already satisfied: starlette-exporter in c:\\programdata\\anaconda3\\lib\\site-packages (from mlserver>=0.5.3->mlflow[extras]) (0.14.0)\n",
      "Requirement already satisfied: grpcio in c:\\programdata\\anaconda3\\lib\\site-packages (from mlserver>=0.5.3->mlflow[extras]) (1.42.0)\n",
      "Requirement already satisfied: fastapi in c:\\programdata\\anaconda3\\lib\\site-packages (from mlserver>=0.5.3->mlflow[extras]) (0.87.0)\n",
      "Requirement already satisfied: uvicorn in c:\\programdata\\anaconda3\\lib\\site-packages (from mlserver>=0.5.3->mlflow[extras]) (0.19.0)\n",
      "Requirement already satisfied: portalocker<3,>=1.6 in c:\\programdata\\anaconda3\\lib\\site-packages (from msal-extensions<=1.0.0,>=0.3.0->azureml-core>=1.2.0->mlflow[extras]) (2.6.0)\n",
      "Requirement already satisfied: isodate>=0.6.0 in c:\\programdata\\anaconda3\\lib\\site-packages (from msrest<=0.7.1,>=0.5.1->azureml-core>=1.2.0->mlflow[extras]) (0.6.1)\n",
      "Requirement already satisfied: requests-oauthlib>=0.5.0 in c:\\programdata\\anaconda3\\lib\\site-packages (from msrest<=0.7.1,>=0.5.1->azureml-core>=1.2.0->mlflow[extras]) (1.3.1)\n",
      "Requirement already satisfied: certifi>=2017.4.17 in c:\\programdata\\anaconda3\\lib\\site-packages (from msrest<=0.7.1,>=0.5.1->azureml-core>=1.2.0->mlflow[extras]) (2021.10.8)\n",
      "Requirement already satisfied: pyasn1>=0.1.1 in c:\\programdata\\anaconda3\\lib\\site-packages (from ndg-httpsclient<=0.5.1->azureml-core>=1.2.0->mlflow[extras]) (0.4.8)\n",
      "Requirement already satisfied: pyparsing!=3.0.5,>=2.0.2 in c:\\programdata\\anaconda3\\lib\\site-packages (from packaging<22->mlflow[extras]) (3.0.4)\n",
      "Requirement already satisfied: bcrypt>=3.1.3 in c:\\programdata\\anaconda3\\lib\\site-packages (from paramiko<3.0.0,>=2.0.8->azureml-core>=1.2.0->mlflow[extras]) (3.2.0)\n",
      "Requirement already satisfied: pynacl>=1.0.1 in c:\\programdata\\anaconda3\\lib\\site-packages (from paramiko<3.0.0,>=2.0.8->azureml-core>=1.2.0->mlflow[extras]) (1.4.0)\n",
      "Requirement already satisfied: prometheus-client in c:\\programdata\\anaconda3\\lib\\site-packages (from prometheus-flask-exporter<1->mlflow[extras]) (0.13.1)\n",
      "Requirement already satisfied: idna<4,>=2.5 in c:\\programdata\\anaconda3\\lib\\site-packages (from requests<3,>=2.17.3->mlflow[extras]) (3.3)\n",
      "Requirement already satisfied: charset-normalizer~=2.0.0 in c:\\programdata\\anaconda3\\lib\\site-packages (from requests<3,>=2.17.3->mlflow[extras]) (2.0.4)\n",
      "Requirement already satisfied: PySocks!=1.5.7,>=1.5.6 in c:\\programdata\\anaconda3\\lib\\site-packages (from requests<3,>=2.17.3->mlflow[extras]) (1.7.1)\n",
      "Requirement already satisfied: jeepney>=0.6 in c:\\programdata\\anaconda3\\lib\\site-packages (from SecretStorage<4.0.0->azureml-core>=1.2.0->mlflow[extras]) (0.8.0)\n",
      "Requirement already satisfied: greenlet!=0.4.17 in c:\\programdata\\anaconda3\\lib\\site-packages (from sqlalchemy<2,>=1.4.0->mlflow[extras]) (1.1.1)\n",
      "Requirement already satisfied: kafka-python>=2.0.0 in c:\\programdata\\anaconda3\\lib\\site-packages (from aiokafka->mlserver>=0.5.3->mlflow[extras]) (2.0.2)\n",
      "Requirement already satisfied: backports.weakref in c:\\programdata\\anaconda3\\lib\\site-packages (from backports.tempfile->azureml-core>=1.2.0->mlflow[extras]) (1.0.post1)\n",
      "Requirement already satisfied: botocore<1.25.0,>=1.24.32 in c:\\programdata\\anaconda3\\lib\\site-packages (from boto3->mlflow[extras]) (1.24.32)\n",
      "Requirement already satisfied: s3transfer<0.6.0,>=0.5.0 in c:\\programdata\\anaconda3\\lib\\site-packages (from boto3->mlflow[extras]) (0.5.0)\n",
      "Requirement already satisfied: pydantic!=1.7,!=1.7.1,!=1.7.2,!=1.7.3,!=1.8,!=1.8.1,<2.0.0,>=1.6.2 in c:\\programdata\\anaconda3\\lib\\site-packages (from fastapi->mlserver>=0.5.3->mlflow[extras]) (1.10.2)\n",
      "Requirement already satisfied: starlette==0.21.0 in c:\\programdata\\anaconda3\\lib\\site-packages (from fastapi->mlserver>=0.5.3->mlflow[extras]) (0.21.0)\n",
      "Requirement already satisfied: anyio<5,>=3.4.0 in c:\\programdata\\anaconda3\\lib\\site-packages (from starlette==0.21.0->fastapi->mlserver>=0.5.3->mlflow[extras]) (3.5.0)\n",
      "Requirement already satisfied: sniffio>=1.1 in c:\\programdata\\anaconda3\\lib\\site-packages (from anyio<5,>=3.4.0->starlette==0.21.0->fastapi->mlserver>=0.5.3->mlflow[extras]) (1.2.0)\n",
      "Requirement already satisfied: threadpoolctl>=2.0.0 in c:\\programdata\\anaconda3\\lib\\site-packages (from scikit-learn->mlflow[extras]) (2.2.0)\n",
      "Requirement already satisfied: joblib>=0.11 in c:\\programdata\\anaconda3\\lib\\site-packages (from scikit-learn->mlflow[extras]) (1.1.0)\n",
      "Requirement already satisfied: h11>=0.8 in c:\\programdata\\anaconda3\\lib\\site-packages (from uvicorn->mlserver>=0.5.3->mlflow[extras]) (0.14.0)\n",
      "Requirement already satisfied: filelock<4,>=3.4.1 in c:\\programdata\\anaconda3\\lib\\site-packages (from virtualenv->mlflow[extras]) (3.6.0)\n",
      "Requirement already satisfied: distlib<1,>=0.3.6 in c:\\programdata\\anaconda3\\lib\\site-packages (from virtualenv->mlflow[extras]) (0.3.6)\n",
      "Requirement already satisfied: platformdirs<3,>=2.4 in c:\\programdata\\anaconda3\\lib\\site-packages (from virtualenv->mlflow[extras]) (2.5.4)\n"
     ]
    }
   ],
   "source": [
    "#pip install mlflow[extras]"
   ]
  },
  {
   "cell_type": "markdown",
   "metadata": {
    "id": "Jl79q7ZswRuX"
   },
   "source": [
    "# Data Profilling"
   ]
  },
  {
   "cell_type": "markdown",
   "metadata": {
    "id": "DSwUFS7hBUjD"
   },
   "source": [
    "**we load and preview the first five rows of dataset**"
   ]
  },
  {
   "cell_type": "code",
   "execution_count": 4,
   "metadata": {
    "colab": {
     "base_uri": "https://localhost:8080/",
     "height": 206
    },
    "id": "23AtN7GTwRuZ",
    "outputId": "36c8c641-2e2c-41e1-b0c2-7b01ef8cd20e"
   },
   "outputs": [
    {
     "data": {
      "text/html": [
       "<div>\n",
       "<style scoped>\n",
       "    .dataframe tbody tr th:only-of-type {\n",
       "        vertical-align: middle;\n",
       "    }\n",
       "\n",
       "    .dataframe tbody tr th {\n",
       "        vertical-align: top;\n",
       "    }\n",
       "\n",
       "    .dataframe thead th {\n",
       "        text-align: right;\n",
       "    }\n",
       "</style>\n",
       "<table border=\"1\" class=\"dataframe\">\n",
       "  <thead>\n",
       "    <tr style=\"text-align: right;\">\n",
       "      <th></th>\n",
       "      <th>TV</th>\n",
       "      <th>Sales</th>\n",
       "    </tr>\n",
       "  </thead>\n",
       "  <tbody>\n",
       "    <tr>\n",
       "      <th>0</th>\n",
       "      <td>230.1</td>\n",
       "      <td>22.1</td>\n",
       "    </tr>\n",
       "    <tr>\n",
       "      <th>1</th>\n",
       "      <td>44.5</td>\n",
       "      <td>10.4</td>\n",
       "    </tr>\n",
       "    <tr>\n",
       "      <th>2</th>\n",
       "      <td>17.2</td>\n",
       "      <td>9.3</td>\n",
       "    </tr>\n",
       "    <tr>\n",
       "      <th>3</th>\n",
       "      <td>151.5</td>\n",
       "      <td>18.5</td>\n",
       "    </tr>\n",
       "    <tr>\n",
       "      <th>4</th>\n",
       "      <td>180.8</td>\n",
       "      <td>12.9</td>\n",
       "    </tr>\n",
       "  </tbody>\n",
       "</table>\n",
       "</div>"
      ],
      "text/plain": [
       "      TV  Sales\n",
       "0  230.1   22.1\n",
       "1   44.5   10.4\n",
       "2   17.2    9.3\n",
       "3  151.5   18.5\n",
       "4  180.8   12.9"
      ]
     },
     "execution_count": 4,
     "metadata": {},
     "output_type": "execute_result"
    }
   ],
   "source": [
    "df = pd.read_csv('tvmarketing.csv')\n",
    "df.head()"
   ]
  },
  {
   "cell_type": "markdown",
   "metadata": {
    "id": "_SgqcuB-B4ot"
   },
   "source": [
    "**we will see the column and row information from the dataset**"
   ]
  },
  {
   "cell_type": "code",
   "execution_count": 5,
   "metadata": {
    "colab": {
     "base_uri": "https://localhost:8080/"
    },
    "id": "EZYDFL2WwRua",
    "outputId": "0ac77f2c-3f33-4b61-cdf4-b9ea71c86908"
   },
   "outputs": [
    {
     "name": "stdout",
     "output_type": "stream",
     "text": [
      "<class 'pandas.core.frame.DataFrame'>\n",
      "RangeIndex: 200 entries, 0 to 199\n",
      "Data columns (total 2 columns):\n",
      " #   Column  Non-Null Count  Dtype  \n",
      "---  ------  --------------  -----  \n",
      " 0   TV      200 non-null    float64\n",
      " 1   Sales   200 non-null    float64\n",
      "dtypes: float64(2)\n",
      "memory usage: 3.2 KB\n"
     ]
    }
   ],
   "source": [
    "df.info()"
   ]
  },
  {
   "cell_type": "markdown",
   "metadata": {
    "id": "T1UWJlAowRub"
   },
   "source": [
    "tv marketing data has 200 row and 2 columns"
   ]
  },
  {
   "cell_type": "markdown",
   "metadata": {
    "id": "pinLZRWhLQ3i"
   },
   "source": [
    "**we wanna check missing value from the data**"
   ]
  },
  {
   "cell_type": "code",
   "execution_count": 6,
   "metadata": {
    "colab": {
     "base_uri": "https://localhost:8080/"
    },
    "id": "fGx7QkrYLE82",
    "outputId": "5cba6b81-546f-4008-bbfa-a92d7eb17525"
   },
   "outputs": [
    {
     "data": {
      "text/plain": [
       "TV       0\n",
       "Sales    0\n",
       "dtype: int64"
      ]
     },
     "execution_count": 6,
     "metadata": {},
     "output_type": "execute_result"
    }
   ],
   "source": [
    "df.isna().sum()"
   ]
  },
  {
   "cell_type": "markdown",
   "metadata": {
    "id": "qT2Wc__iLWl3"
   },
   "source": [
    "we can see that there is no missing value in the dataset tvmarketing"
   ]
  },
  {
   "cell_type": "markdown",
   "metadata": {
    "id": "cAxGHw7HwRuc"
   },
   "source": [
    "#  Data Cleansing\n",
    "\n",
    "data is clean the data type is all correct and there is no missing value"
   ]
  },
  {
   "cell_type": "markdown",
   "metadata": {
    "id": "-FgxY31OwRuc"
   },
   "source": [
    "# Exploratory Data Analysis"
   ]
  },
  {
   "cell_type": "markdown",
   "metadata": {
    "id": "1wLHBdNfij0k"
   },
   "source": [
    "**we wanna see the statisic of numerical data**"
   ]
  },
  {
   "cell_type": "code",
   "execution_count": 7,
   "metadata": {
    "colab": {
     "base_uri": "https://localhost:8080/",
     "height": 300
    },
    "id": "mJVHllKmcv-R",
    "outputId": "53d003bc-0f83-4fe8-9f0e-d76ebb9e393b"
   },
   "outputs": [
    {
     "data": {
      "text/html": [
       "<div>\n",
       "<style scoped>\n",
       "    .dataframe tbody tr th:only-of-type {\n",
       "        vertical-align: middle;\n",
       "    }\n",
       "\n",
       "    .dataframe tbody tr th {\n",
       "        vertical-align: top;\n",
       "    }\n",
       "\n",
       "    .dataframe thead th {\n",
       "        text-align: right;\n",
       "    }\n",
       "</style>\n",
       "<table border=\"1\" class=\"dataframe\">\n",
       "  <thead>\n",
       "    <tr style=\"text-align: right;\">\n",
       "      <th></th>\n",
       "      <th>TV</th>\n",
       "      <th>Sales</th>\n",
       "    </tr>\n",
       "  </thead>\n",
       "  <tbody>\n",
       "    <tr>\n",
       "      <th>count</th>\n",
       "      <td>200.000000</td>\n",
       "      <td>200.000000</td>\n",
       "    </tr>\n",
       "    <tr>\n",
       "      <th>mean</th>\n",
       "      <td>147.042500</td>\n",
       "      <td>14.022500</td>\n",
       "    </tr>\n",
       "    <tr>\n",
       "      <th>std</th>\n",
       "      <td>85.854236</td>\n",
       "      <td>5.217457</td>\n",
       "    </tr>\n",
       "    <tr>\n",
       "      <th>min</th>\n",
       "      <td>0.700000</td>\n",
       "      <td>1.600000</td>\n",
       "    </tr>\n",
       "    <tr>\n",
       "      <th>25%</th>\n",
       "      <td>74.375000</td>\n",
       "      <td>10.375000</td>\n",
       "    </tr>\n",
       "    <tr>\n",
       "      <th>50%</th>\n",
       "      <td>149.750000</td>\n",
       "      <td>12.900000</td>\n",
       "    </tr>\n",
       "    <tr>\n",
       "      <th>75%</th>\n",
       "      <td>218.825000</td>\n",
       "      <td>17.400000</td>\n",
       "    </tr>\n",
       "    <tr>\n",
       "      <th>max</th>\n",
       "      <td>296.400000</td>\n",
       "      <td>27.000000</td>\n",
       "    </tr>\n",
       "  </tbody>\n",
       "</table>\n",
       "</div>"
      ],
      "text/plain": [
       "               TV       Sales\n",
       "count  200.000000  200.000000\n",
       "mean   147.042500   14.022500\n",
       "std     85.854236    5.217457\n",
       "min      0.700000    1.600000\n",
       "25%     74.375000   10.375000\n",
       "50%    149.750000   12.900000\n",
       "75%    218.825000   17.400000\n",
       "max    296.400000   27.000000"
      ]
     },
     "execution_count": 7,
     "metadata": {},
     "output_type": "execute_result"
    }
   ],
   "source": [
    "df.describe()"
   ]
  },
  {
   "cell_type": "markdown",
   "metadata": {
    "id": "9MgZvO20wRuc"
   },
   "source": [
    "From the analysis of tvmarketing data which contains 200 lines, the average cost spent on the TV marketing budget is **\\$147.04** with the lowest cost spending **\\$0.7** and the highest cost **\\$296.4**, and the average sales is**\\$14.02** with a lowest is **\\$1.6** and the highest is **\\$27**."
   ]
  },
  {
   "cell_type": "markdown",
   "metadata": {
    "id": "uDCrB5TsLCof"
   },
   "source": [
    "**we wanna know the modus from the TV column**"
   ]
  },
  {
   "cell_type": "code",
   "execution_count": 8,
   "metadata": {
    "colab": {
     "base_uri": "https://localhost:8080/"
    },
    "id": "At4AujbhgTT9",
    "outputId": "4f3a317a-b80c-44fc-adbb-4ad662bcde85"
   },
   "outputs": [
    {
     "data": {
      "text/plain": [
       "17.2"
      ]
     },
     "execution_count": 8,
     "metadata": {},
     "output_type": "execute_result"
    }
   ],
   "source": [
    "df['TV'].mode().values[0]"
   ]
  },
  {
   "cell_type": "markdown",
   "metadata": {
    "id": "GjbesSUoghmf"
   },
   "source": [
    "The most frequently used Marketing Budget is **\\$17.2**"
   ]
  },
  {
   "cell_type": "markdown",
   "metadata": {
    "id": "ZAm-ZESoLKcB"
   },
   "source": [
    "**we wanna know the modus from Sales column**"
   ]
  },
  {
   "cell_type": "code",
   "execution_count": 9,
   "metadata": {
    "colab": {
     "base_uri": "https://localhost:8080/"
    },
    "id": "uMqnomiVgeeX",
    "outputId": "440f03a5-6823-47ac-a8a7-a37754d8866c"
   },
   "outputs": [
    {
     "data": {
      "text/plain": [
       "9.7"
      ]
     },
     "execution_count": 9,
     "metadata": {},
     "output_type": "execute_result"
    }
   ],
   "source": [
    "df['Sales'].mode().values[0]"
   ]
  },
  {
   "cell_type": "markdown",
   "metadata": {
    "id": "LK-kSsgbgtPJ"
   },
   "source": [
    "The most frequently sold TV price is **\\$9.7**"
   ]
  },
  {
   "cell_type": "markdown",
   "metadata": {
    "id": "KlGylD0CCa_4"
   },
   "source": [
    "### Distribution\n",
    "**we wanna see the distribution of marketing budget 'TV'**"
   ]
  },
  {
   "cell_type": "code",
   "execution_count": 10,
   "metadata": {
    "colab": {
     "base_uri": "https://localhost:8080/",
     "height": 282
    },
    "id": "3Ohl92JTwRud",
    "outputId": "8f090c2b-5efb-44c3-c003-6437b66d5642"
   },
   "outputs": [
    {
     "data": {
      "image/png": "[encoded data removed]",
      "text/plain": [
       "<Figure size 432x288 with 1 Axes>"
      ]
     },
     "metadata": {
      "needs_background": "light"
     },
     "output_type": "display_data"
    }
   ],
   "source": [
    "sns.distplot(df['TV'], bins=20);"
   ]
  },
  {
   "cell_type": "markdown",
   "metadata": {
    "id": "3FwefMkBLZ_W"
   },
   "source": [
    "**we wanna know the mean from the TV column**"
   ]
  },
  {
   "cell_type": "code",
   "execution_count": 11,
   "metadata": {
    "colab": {
     "base_uri": "https://localhost:8080/"
    },
    "id": "SZv0ew1VMgi0",
    "outputId": "987c72a0-bce1-4c17-d3be-6de2428d9bb2"
   },
   "outputs": [
    {
     "data": {
      "text/plain": [
       "147.0425"
      ]
     },
     "execution_count": 11,
     "metadata": {},
     "output_type": "execute_result"
    }
   ],
   "source": [
    "df.TV.mean()"
   ]
  },
  {
   "cell_type": "markdown",
   "metadata": {
    "id": "n_eNuGe-LkSt"
   },
   "source": [
    "**we wanna know the median from the TV column**"
   ]
  },
  {
   "cell_type": "code",
   "execution_count": 12,
   "metadata": {
    "colab": {
     "base_uri": "https://localhost:8080/"
    },
    "id": "fHBM9ab6NiYs",
    "outputId": "d463fc48-6840-4150-ca50-58c880fdb7b6"
   },
   "outputs": [
    {
     "data": {
      "text/plain": [
       "149.75"
      ]
     },
     "execution_count": 12,
     "metadata": {},
     "output_type": "execute_result"
    }
   ],
   "source": [
    "df.TV.median()"
   ]
  },
  {
   "cell_type": "markdown",
   "metadata": {
    "id": "2VlvOoxtLt2o"
   },
   "source": [
    "**we wanna know the modus from the TV column**"
   ]
  },
  {
   "cell_type": "code",
   "execution_count": 13,
   "metadata": {
    "colab": {
     "base_uri": "https://localhost:8080/"
    },
    "id": "sEpWS2u6NmLv",
    "outputId": "1a1e9316-80b0-4776-d65b-158b7ede8647"
   },
   "outputs": [
    {
     "data": {
      "text/plain": [
       "17.2"
      ]
     },
     "execution_count": 13,
     "metadata": {},
     "output_type": "execute_result"
    }
   ],
   "source": [
    "df.TV.mode().values[0]"
   ]
  },
  {
   "cell_type": "markdown",
   "metadata": {
    "id": "qVzlv01myW-5"
   },
   "source": [
    "Based on the graph above distribution of marketing budget 'TV' has the highest density of marketing Budget which is **\\$200** dollars"
   ]
  },
  {
   "cell_type": "markdown",
   "metadata": {
    "id": "tZRxIjtBCezb"
   },
   "source": [
    "**we wanna see the distribution of 'Sales'**"
   ]
  },
  {
   "cell_type": "code",
   "execution_count": 14,
   "metadata": {
    "colab": {
     "base_uri": "https://localhost:8080/",
     "height": 279
    },
    "id": "KNaCICl5wRud",
    "outputId": "1bb48395-c3d3-4280-b7ed-7d7716f086e0"
   },
   "outputs": [
    {
     "data": {
      "image/png": "[encoded data removed]",
      "text/plain": [
       "<Figure size 432x288 with 1 Axes>"
      ]
     },
     "metadata": {
      "needs_background": "light"
     },
     "output_type": "display_data"
    }
   ],
   "source": [
    "sns.distplot(df['Sales'], bins=20);"
   ]
  },
  {
   "cell_type": "markdown",
   "metadata": {
    "id": "P42_9r_LLxfy"
   },
   "source": [
    "**we wanna know the mean from the Sales column**"
   ]
  },
  {
   "cell_type": "code",
   "execution_count": 15,
   "metadata": {
    "colab": {
     "base_uri": "https://localhost:8080/"
    },
    "id": "4XOuNZ5TPMK4",
    "outputId": "8847692d-8c01-438c-f5ed-f509ac9738f0"
   },
   "outputs": [
    {
     "data": {
      "text/plain": [
       "14.022500000000003"
      ]
     },
     "execution_count": 15,
     "metadata": {},
     "output_type": "execute_result"
    }
   ],
   "source": [
    "df.Sales.mean()"
   ]
  },
  {
   "cell_type": "markdown",
   "metadata": {
    "id": "g-XGijSRL0cu"
   },
   "source": [
    "**we wanna know the median from the Sales column**"
   ]
  },
  {
   "cell_type": "code",
   "execution_count": 16,
   "metadata": {
    "colab": {
     "base_uri": "https://localhost:8080/"
    },
    "id": "ZHbCrMQCPSDX",
    "outputId": "566d1775-d1a8-4a73-cd69-f16465dab8c4"
   },
   "outputs": [
    {
     "data": {
      "text/plain": [
       "12.9"
      ]
     },
     "execution_count": 16,
     "metadata": {},
     "output_type": "execute_result"
    }
   ],
   "source": [
    "df.Sales.median()"
   ]
  },
  {
   "cell_type": "markdown",
   "metadata": {
    "id": "n8bG0pYwL3Ad"
   },
   "source": [
    "**we wanna know the modus from the Sales column**"
   ]
  },
  {
   "cell_type": "code",
   "execution_count": 17,
   "metadata": {
    "colab": {
     "base_uri": "https://localhost:8080/"
    },
    "id": "m2eeWq8-PVr2",
    "outputId": "02115651-3e70-49d4-89c1-5802ca6223ea"
   },
   "outputs": [
    {
     "data": {
      "text/plain": [
       "0    9.7\n",
       "Name: Sales, dtype: float64"
      ]
     },
     "execution_count": 17,
     "metadata": {},
     "output_type": "execute_result"
    }
   ],
   "source": [
    "df.Sales.mode()"
   ]
  },
  {
   "cell_type": "markdown",
   "metadata": {
    "id": "AF68PBOezMo_"
   },
   "source": [
    "Based on the data above, we can see that 'Sales' are mostly or have the highest density at values ​​of **\\$10-15**\n"
   ]
  },
  {
   "cell_type": "markdown",
   "metadata": {
    "id": "avvRhVFdCpHU"
   },
   "source": [
    "**we wanna see the relationship between marketing budget TV and Sales**"
   ]
  },
  {
   "cell_type": "code",
   "execution_count": 18,
   "metadata": {
    "colab": {
     "base_uri": "https://localhost:8080/",
     "height": 441
    },
    "id": "fIRNODcIx90r",
    "outputId": "c4e35ccd-03d7-4f5b-d538-641d996ca7c0"
   },
   "outputs": [
    {
     "data": {
      "image/png": "[encoded data removed]",
      "text/plain": [
       "<Figure size 432x432 with 3 Axes>"
      ]
     },
     "metadata": {
      "needs_background": "light"
     },
     "output_type": "display_data"
    }
   ],
   "source": [
    "#  relationship between Sales dengan TV\n",
    "sns.jointplot(x='Sales', y='TV', data=df);"
   ]
  },
  {
   "cell_type": "markdown",
   "metadata": {
    "id": "3oB_5D8ozXnm"
   },
   "source": [
    "Based on the graph above, we can see that the Sales and Marketing Budget of TV has a correlation, where the **higher the marketing costs** , **the greater the sales**. However, from the graph above there is also data that has high marketing costs but has low sales"
   ]
  },
  {
   "cell_type": "markdown",
   "metadata": {
    "id": "qmahg6yCwRud"
   },
   "source": [
    "# Feature Engineering"
   ]
  },
  {
   "cell_type": "markdown",
   "metadata": {
    "id": "tvei0RTpj8t5"
   },
   "source": [
    "**We duplicate dataset to do scaling using MinMaxScaler** <br>\n",
    "Features in the data have different value ranges. By normalizing the data using MinMaxScaler, the data will have the same scale and the model can learn faster and the accuracy of the model can increase.\n"
   ]
  },
  {
   "cell_type": "code",
   "execution_count": 19,
   "metadata": {
    "colab": {
     "base_uri": "https://localhost:8080/",
     "height": 424
    },
    "id": "QeMp5NK3hfkG",
    "outputId": "1535534c-f144-475b-8dbc-9b6a55f87896"
   },
   "outputs": [
    {
     "data": {
      "text/html": [
       "<div>\n",
       "<style scoped>\n",
       "    .dataframe tbody tr th:only-of-type {\n",
       "        vertical-align: middle;\n",
       "    }\n",
       "\n",
       "    .dataframe tbody tr th {\n",
       "        vertical-align: top;\n",
       "    }\n",
       "\n",
       "    .dataframe thead th {\n",
       "        text-align: right;\n",
       "    }\n",
       "</style>\n",
       "<table border=\"1\" class=\"dataframe\">\n",
       "  <thead>\n",
       "    <tr style=\"text-align: right;\">\n",
       "      <th></th>\n",
       "      <th>TV</th>\n",
       "      <th>Sales</th>\n",
       "    </tr>\n",
       "  </thead>\n",
       "  <tbody>\n",
       "    <tr>\n",
       "      <th>0</th>\n",
       "      <td>230.1</td>\n",
       "      <td>22.1</td>\n",
       "    </tr>\n",
       "    <tr>\n",
       "      <th>1</th>\n",
       "      <td>44.5</td>\n",
       "      <td>10.4</td>\n",
       "    </tr>\n",
       "    <tr>\n",
       "      <th>2</th>\n",
       "      <td>17.2</td>\n",
       "      <td>9.3</td>\n",
       "    </tr>\n",
       "    <tr>\n",
       "      <th>3</th>\n",
       "      <td>151.5</td>\n",
       "      <td>18.5</td>\n",
       "    </tr>\n",
       "    <tr>\n",
       "      <th>4</th>\n",
       "      <td>180.8</td>\n",
       "      <td>12.9</td>\n",
       "    </tr>\n",
       "    <tr>\n",
       "      <th>...</th>\n",
       "      <td>...</td>\n",
       "      <td>...</td>\n",
       "    </tr>\n",
       "    <tr>\n",
       "      <th>195</th>\n",
       "      <td>38.2</td>\n",
       "      <td>7.6</td>\n",
       "    </tr>\n",
       "    <tr>\n",
       "      <th>196</th>\n",
       "      <td>94.2</td>\n",
       "      <td>9.7</td>\n",
       "    </tr>\n",
       "    <tr>\n",
       "      <th>197</th>\n",
       "      <td>177.0</td>\n",
       "      <td>12.8</td>\n",
       "    </tr>\n",
       "    <tr>\n",
       "      <th>198</th>\n",
       "      <td>283.6</td>\n",
       "      <td>25.5</td>\n",
       "    </tr>\n",
       "    <tr>\n",
       "      <th>199</th>\n",
       "      <td>232.1</td>\n",
       "      <td>13.4</td>\n",
       "    </tr>\n",
       "  </tbody>\n",
       "</table>\n",
       "<p>200 rows × 2 columns</p>\n",
       "</div>"
      ],
      "text/plain": [
       "        TV  Sales\n",
       "0    230.1   22.1\n",
       "1     44.5   10.4\n",
       "2     17.2    9.3\n",
       "3    151.5   18.5\n",
       "4    180.8   12.9\n",
       "..     ...    ...\n",
       "195   38.2    7.6\n",
       "196   94.2    9.7\n",
       "197  177.0   12.8\n",
       "198  283.6   25.5\n",
       "199  232.1   13.4\n",
       "\n",
       "[200 rows x 2 columns]"
      ]
     },
     "execution_count": 19,
     "metadata": {},
     "output_type": "execute_result"
    }
   ],
   "source": [
    "# MinMaxScaler\n",
    "df_copy = df.copy()\n",
    "scaler = MinMaxScaler()\n",
    "df_copy[['TV']] = scaler.fit_transform(df_copy[['TV']])\n",
    "df"
   ]
  },
  {
   "cell_type": "markdown",
   "metadata": {
    "id": "MG4Y8EREonHL"
   },
   "source": [
    "# Without Hyperparameter"
   ]
  },
  {
   "cell_type": "markdown",
   "metadata": {
    "id": "5rR0U_bMo4Wn"
   },
   "source": [
    "## Preprocessing Modeling (without hyperparameter)"
   ]
  },
  {
   "cell_type": "markdown",
   "metadata": {
    "id": "gpoxmrehr_Ki"
   },
   "source": [
    "**we split and train the data, because there is quite a large amount of data in the dataset, we set the train size in 0.8**"
   ]
  },
  {
   "cell_type": "code",
   "execution_count": 20,
   "metadata": {
    "id": "TPJ93Km_o-vI"
   },
   "outputs": [],
   "source": [
    "x = df.drop(['Sales'],axis=1)\n",
    "y = df['Sales']\n",
    "\n",
    "x_train, x_test, y_train, y_test =  train_test_split(x, y, train_size = 0.8, random_state = 42)"
   ]
  },
  {
   "cell_type": "markdown",
   "metadata": {
    "id": "WTijO_vQpdZ4"
   },
   "source": [
    "### Simple Linear Regression (Without hyperparameter)"
   ]
  },
  {
   "cell_type": "markdown",
   "metadata": {
    "id": "cGj1mH2ksUeS"
   },
   "source": [
    "**we fit into training the data**"
   ]
  },
  {
   "cell_type": "code",
   "execution_count": 21,
   "metadata": {
    "colab": {
     "base_uri": "https://localhost:8080/"
    },
    "id": "kHxEDvJAwRuf",
    "outputId": "9678fb5a-5eed-4d32-eae3-8b9d343573b7"
   },
   "outputs": [
    {
     "data": {
      "text/plain": [
       "LinearRegression()"
      ]
     },
     "execution_count": 21,
     "metadata": {},
     "output_type": "execute_result"
    }
   ],
   "source": [
    "regressor = LinearRegression()\n",
    "regressor.fit(x_train, y_train)"
   ]
  },
  {
   "cell_type": "code",
   "execution_count": 22,
   "metadata": {
    "colab": {
     "base_uri": "https://localhost:8080/"
    },
    "id": "ltVkQ0dVwRuf",
    "outputId": "73168378-6130-4d4f-c4a1-a218a658ae61"
   },
   "outputs": [
    {
     "data": {
      "text/plain": [
       "array([0.04652973])"
      ]
     },
     "execution_count": 22,
     "metadata": {},
     "output_type": "execute_result"
    }
   ],
   "source": [
    "regressor.coef_"
   ]
  },
  {
   "cell_type": "markdown",
   "metadata": {
    "id": "w76_sSWgsaEr"
   },
   "source": [
    "**we predict the result**"
   ]
  },
  {
   "cell_type": "code",
   "execution_count": 23,
   "metadata": {
    "id": "ELKOZqK3wRug"
   },
   "outputs": [],
   "source": [
    "y_pred = regressor.predict(x_test)"
   ]
  },
  {
   "cell_type": "markdown",
   "metadata": {
    "id": "9CvYfcoYshoH"
   },
   "source": [
    "**we plot the result**"
   ]
  },
  {
   "cell_type": "code",
   "execution_count": 24,
   "metadata": {
    "colab": {
     "base_uri": "https://localhost:8080/",
     "height": 1000
    },
    "id": "TGYTFTutwRug",
    "outputId": "f520f307-3837-4c1f-e646-9accc8fd02b2"
   },
   "outputs": [
    {
     "data": {
      "text/html": [
       "<div>\n",
       "<style scoped>\n",
       "    .dataframe tbody tr th:only-of-type {\n",
       "        vertical-align: middle;\n",
       "    }\n",
       "\n",
       "    .dataframe tbody tr th {\n",
       "        vertical-align: top;\n",
       "    }\n",
       "\n",
       "    .dataframe thead th {\n",
       "        text-align: right;\n",
       "    }\n",
       "</style>\n",
       "<table border=\"1\" class=\"dataframe\">\n",
       "  <thead>\n",
       "    <tr style=\"text-align: right;\">\n",
       "      <th></th>\n",
       "      <th>Actual</th>\n",
       "      <th>Predict</th>\n",
       "    </tr>\n",
       "  </thead>\n",
       "  <tbody>\n",
       "    <tr>\n",
       "      <th>95</th>\n",
       "      <td>16.9</td>\n",
       "      <td>14.717944</td>\n",
       "    </tr>\n",
       "    <tr>\n",
       "      <th>15</th>\n",
       "      <td>22.4</td>\n",
       "      <td>16.211548</td>\n",
       "    </tr>\n",
       "    <tr>\n",
       "      <th>30</th>\n",
       "      <td>21.4</td>\n",
       "      <td>20.748197</td>\n",
       "    </tr>\n",
       "    <tr>\n",
       "      <th>158</th>\n",
       "      <td>7.3</td>\n",
       "      <td>7.664036</td>\n",
       "    </tr>\n",
       "    <tr>\n",
       "      <th>128</th>\n",
       "      <td>24.7</td>\n",
       "      <td>17.370139</td>\n",
       "    </tr>\n",
       "    <tr>\n",
       "      <th>115</th>\n",
       "      <td>12.6</td>\n",
       "      <td>10.614021</td>\n",
       "    </tr>\n",
       "    <tr>\n",
       "      <th>69</th>\n",
       "      <td>22.3</td>\n",
       "      <td>17.207285</td>\n",
       "    </tr>\n",
       "    <tr>\n",
       "      <th>170</th>\n",
       "      <td>8.4</td>\n",
       "      <td>9.446125</td>\n",
       "    </tr>\n",
       "    <tr>\n",
       "      <th>174</th>\n",
       "      <td>11.5</td>\n",
       "      <td>17.467851</td>\n",
       "    </tr>\n",
       "    <tr>\n",
       "      <th>45</th>\n",
       "      <td>14.9</td>\n",
       "      <td>15.266995</td>\n",
       "    </tr>\n",
       "    <tr>\n",
       "      <th>66</th>\n",
       "      <td>9.5</td>\n",
       "      <td>8.585325</td>\n",
       "    </tr>\n",
       "    <tr>\n",
       "      <th>182</th>\n",
       "      <td>8.7</td>\n",
       "      <td>9.734609</td>\n",
       "    </tr>\n",
       "    <tr>\n",
       "      <th>165</th>\n",
       "      <td>11.9</td>\n",
       "      <td>18.030861</td>\n",
       "    </tr>\n",
       "    <tr>\n",
       "      <th>78</th>\n",
       "      <td>5.3</td>\n",
       "      <td>7.370899</td>\n",
       "    </tr>\n",
       "    <tr>\n",
       "      <th>186</th>\n",
       "      <td>10.3</td>\n",
       "      <td>13.610536</td>\n",
       "    </tr>\n",
       "    <tr>\n",
       "      <th>177</th>\n",
       "      <td>11.7</td>\n",
       "      <td>15.038999</td>\n",
       "    </tr>\n",
       "    <tr>\n",
       "      <th>56</th>\n",
       "      <td>5.5</td>\n",
       "      <td>7.459305</td>\n",
       "    </tr>\n",
       "    <tr>\n",
       "      <th>152</th>\n",
       "      <td>16.6</td>\n",
       "      <td>16.313914</td>\n",
       "    </tr>\n",
       "    <tr>\n",
       "      <th>82</th>\n",
       "      <td>11.3</td>\n",
       "      <td>10.623327</td>\n",
       "    </tr>\n",
       "    <tr>\n",
       "      <th>68</th>\n",
       "      <td>18.9</td>\n",
       "      <td>18.165797</td>\n",
       "    </tr>\n",
       "    <tr>\n",
       "      <th>124</th>\n",
       "      <td>19.7</td>\n",
       "      <td>17.798212</td>\n",
       "    </tr>\n",
       "    <tr>\n",
       "      <th>16</th>\n",
       "      <td>12.5</td>\n",
       "      <td>10.274354</td>\n",
       "    </tr>\n",
       "    <tr>\n",
       "      <th>148</th>\n",
       "      <td>10.9</td>\n",
       "      <td>8.887768</td>\n",
       "    </tr>\n",
       "    <tr>\n",
       "      <th>93</th>\n",
       "      <td>22.2</td>\n",
       "      <td>18.793949</td>\n",
       "    </tr>\n",
       "    <tr>\n",
       "      <th>65</th>\n",
       "      <td>9.3</td>\n",
       "      <td>10.330190</td>\n",
       "    </tr>\n",
       "    <tr>\n",
       "      <th>60</th>\n",
       "      <td>8.1</td>\n",
       "      <td>9.608979</td>\n",
       "    </tr>\n",
       "    <tr>\n",
       "      <th>84</th>\n",
       "      <td>21.7</td>\n",
       "      <td>17.053737</td>\n",
       "    </tr>\n",
       "    <tr>\n",
       "      <th>67</th>\n",
       "      <td>13.4</td>\n",
       "      <td>13.601230</td>\n",
       "    </tr>\n",
       "    <tr>\n",
       "      <th>125</th>\n",
       "      <td>10.6</td>\n",
       "      <td>11.177031</td>\n",
       "    </tr>\n",
       "    <tr>\n",
       "      <th>132</th>\n",
       "      <td>5.7</td>\n",
       "      <td>7.510488</td>\n",
       "    </tr>\n",
       "    <tr>\n",
       "      <th>9</th>\n",
       "      <td>10.6</td>\n",
       "      <td>16.416279</td>\n",
       "    </tr>\n",
       "    <tr>\n",
       "      <th>18</th>\n",
       "      <td>11.3</td>\n",
       "      <td>10.339496</td>\n",
       "    </tr>\n",
       "    <tr>\n",
       "      <th>55</th>\n",
       "      <td>23.7</td>\n",
       "      <td>16.374402</td>\n",
       "    </tr>\n",
       "    <tr>\n",
       "      <th>75</th>\n",
       "      <td>8.7</td>\n",
       "      <td>7.905991</td>\n",
       "    </tr>\n",
       "    <tr>\n",
       "      <th>150</th>\n",
       "      <td>16.1</td>\n",
       "      <td>20.180535</td>\n",
       "    </tr>\n",
       "    <tr>\n",
       "      <th>104</th>\n",
       "      <td>20.7</td>\n",
       "      <td>18.203021</td>\n",
       "    </tr>\n",
       "    <tr>\n",
       "      <th>135</th>\n",
       "      <td>11.6</td>\n",
       "      <td>9.367025</td>\n",
       "    </tr>\n",
       "    <tr>\n",
       "      <th>137</th>\n",
       "      <td>20.8</td>\n",
       "      <td>19.854827</td>\n",
       "    </tr>\n",
       "    <tr>\n",
       "      <th>164</th>\n",
       "      <td>11.9</td>\n",
       "      <td>12.572923</td>\n",
       "    </tr>\n",
       "    <tr>\n",
       "      <th>76</th>\n",
       "      <td>6.9</td>\n",
       "      <td>8.399206</td>\n",
       "    </tr>\n",
       "  </tbody>\n",
       "</table>\n",
       "</div>"
      ],
      "text/plain": [
       "     Actual    Predict\n",
       "95     16.9  14.717944\n",
       "15     22.4  16.211548\n",
       "30     21.4  20.748197\n",
       "158     7.3   7.664036\n",
       "128    24.7  17.370139\n",
       "115    12.6  10.614021\n",
       "69     22.3  17.207285\n",
       "170     8.4   9.446125\n",
       "174    11.5  17.467851\n",
       "45     14.9  15.266995\n",
       "66      9.5   8.585325\n",
       "182     8.7   9.734609\n",
       "165    11.9  18.030861\n",
       "78      5.3   7.370899\n",
       "186    10.3  13.610536\n",
       "177    11.7  15.038999\n",
       "56      5.5   7.459305\n",
       "152    16.6  16.313914\n",
       "82     11.3  10.623327\n",
       "68     18.9  18.165797\n",
       "124    19.7  17.798212\n",
       "16     12.5  10.274354\n",
       "148    10.9   8.887768\n",
       "93     22.2  18.793949\n",
       "65      9.3  10.330190\n",
       "60      8.1   9.608979\n",
       "84     21.7  17.053737\n",
       "67     13.4  13.601230\n",
       "125    10.6  11.177031\n",
       "132     5.7   7.510488\n",
       "9      10.6  16.416279\n",
       "18     11.3  10.339496\n",
       "55     23.7  16.374402\n",
       "75      8.7   7.905991\n",
       "150    16.1  20.180535\n",
       "104    20.7  18.203021\n",
       "135    11.6   9.367025\n",
       "137    20.8  19.854827\n",
       "164    11.9  12.572923\n",
       "76      6.9   8.399206"
      ]
     },
     "execution_count": 24,
     "metadata": {},
     "output_type": "execute_result"
    }
   ],
   "source": [
    "result = pd.DataFrame({'Actual' : y_test, 'Predict': y_pred})\n",
    "result"
   ]
  },
  {
   "cell_type": "markdown",
   "metadata": {
    "id": "wAEmhzADMP2s"
   },
   "source": [
    "**we wanna see the result using bar chart**"
   ]
  },
  {
   "cell_type": "code",
   "execution_count": 25,
   "metadata": {
    "colab": {
     "base_uri": "https://localhost:8080/",
     "height": 383
    },
    "id": "jPuIBHbNwRuh",
    "outputId": "eb790f64-1286-4684-f440-591448a6fe50"
   },
   "outputs": [
    {
     "data": {
      "image/png": "[encoded data removed]",
      "text/plain": [
       "<Figure size 864x432 with 1 Axes>"
      ]
     },
     "metadata": {
      "needs_background": "light"
     },
     "output_type": "display_data"
    }
   ],
   "source": [
    "result.plot(kind = 'bar', figsize = (12,6))\n",
    "plt.show()"
   ]
  },
  {
   "cell_type": "markdown",
   "metadata": {
    "id": "06xHLOfCZTWU"
   },
   "source": [
    "**we wanna see a pattern of relationship between 2 variables by using scatter plot**"
   ]
  },
  {
   "cell_type": "code",
   "execution_count": 26,
   "metadata": {
    "colab": {
     "base_uri": "https://localhost:8080/",
     "height": 265
    },
    "id": "oFKCcxP_OjYr",
    "outputId": "2f5bcf07-c5ca-4cba-85ee-5ae49f597759"
   },
   "outputs": [
    {
     "data": {
      "image/png": "[encoded data removed]",
      "text/plain": [
       "<Figure size 432x288 with 1 Axes>"
      ]
     },
     "metadata": {
      "needs_background": "light"
     },
     "output_type": "display_data"
    }
   ],
   "source": [
    "plt.scatter(x_train, y_train, color='red') \n",
    "\n",
    "plt.plot(x_test.values, y_pred, color='blue') \n",
    "\n",
    "plt.show()"
   ]
  },
  {
   "cell_type": "markdown",
   "metadata": {
    "id": "1fZZzdpdZs-p"
   },
   "source": [
    "From the graph above we can see that there is a positive relationship between the train data and the predictive data, the red dot indicates the train data which is close to the blue line (predictive data). This shows that **the model used is good enough** for sales predictions from the tvmarketing dataset.\n"
   ]
  },
  {
   "cell_type": "markdown",
   "metadata": {
    "id": "OF4ajjdaoXJ_"
   },
   "source": [
    "# With Hyperparameter"
   ]
  },
  {
   "cell_type": "markdown",
   "metadata": {
    "id": "ypWNA66vAf-a"
   },
   "source": [
    "**we do hyperparameter tuning to get the best parameter**"
   ]
  },
  {
   "cell_type": "markdown",
   "metadata": {
    "id": "16LJNKizwRue"
   },
   "source": [
    "## Preprocessing Modeling (with hyperparameter)"
   ]
  },
  {
   "cell_type": "markdown",
   "metadata": {
    "id": "6aZ0fv8ZszyN"
   },
   "source": [
    "**we split and train the data, because there is quite a large amount of data in the dataset, we set the train size in 0.8**"
   ]
  },
  {
   "cell_type": "code",
   "execution_count": 27,
   "metadata": {
    "id": "wbo0lhRSwRue"
   },
   "outputs": [],
   "source": [
    "x_new = df_copy.drop(['Sales'],axis=1)\n",
    "y_new = df_copy['Sales']"
   ]
  },
  {
   "cell_type": "code",
   "execution_count": 28,
   "metadata": {
    "id": "tSN0RylHwRue"
   },
   "outputs": [],
   "source": [
    "x_train_new, x_test_new, y_train_new, y_test_new =  train_test_split(x_new, y_new, train_size = 0.8, random_state = 42)"
   ]
  },
  {
   "cell_type": "markdown",
   "metadata": {
    "id": "N8Yzd6IrkwQz"
   },
   "source": [
    "## Hyperparameter Tuning"
   ]
  },
  {
   "cell_type": "markdown",
   "metadata": {
    "id": "BbgGuGCwMj5P"
   },
   "source": [
    "**We do the hyperparamter tuning to get best parameter. First, we need to get the default paramater, then the best paramater, finally after we get the best parameter we fit to the model**"
   ]
  },
  {
   "cell_type": "code",
   "execution_count": 29,
   "metadata": {
    "colab": {
     "base_uri": "https://localhost:8080/"
    },
    "id": "jk9G_ImNkIfH",
    "outputId": "8eeddf86-ac01-4c47-a31e-839870e53141"
   },
   "outputs": [
    {
     "data": {
      "text/plain": [
       "array([0.67562287, 0.49242015, 0.56765656])"
      ]
     },
     "execution_count": 29,
     "metadata": {},
     "output_type": "execute_result"
    }
   ],
   "source": [
    "scores = cross_val_score(regressor, x_train_new, y_train_new, scoring='r2', cv=3)\n",
    "scores"
   ]
  },
  {
   "cell_type": "code",
   "execution_count": 30,
   "metadata": {
    "colab": {
     "base_uri": "https://localhost:8080/"
    },
    "id": "EqtsTqTykqrb",
    "outputId": "acd417f5-d89d-4965-e5ef-5421725b9b87"
   },
   "outputs": [
    {
     "data": {
      "text/plain": [
       "{'copy_X': True,\n",
       " 'fit_intercept': True,\n",
       " 'n_jobs': None,\n",
       " 'normalize': 'deprecated',\n",
       " 'positive': False}"
      ]
     },
     "execution_count": 30,
     "metadata": {},
     "output_type": "execute_result"
    }
   ],
   "source": [
    "regressor.get_params()"
   ]
  },
  {
   "cell_type": "code",
   "execution_count": 31,
   "metadata": {
    "id": "u72eLUvHkyZH"
   },
   "outputs": [],
   "source": [
    "parameters = {\n",
    "    'copy_X' : [True, False],\n",
    "    'fit_intercept' : [True, False],\n",
    "    'n_jobs' : [None, -1],\n",
    "    'normalize' : [True, False],\n",
    "    'positive' : [True, False]\n",
    "}"
   ]
  },
  {
   "cell_type": "code",
   "execution_count": 32,
   "metadata": {
    "id": "ri5123bulJ5P"
   },
   "outputs": [],
   "source": [
    "grid = GridSearchCV(estimator=regressor, param_grid= parameters, cv=3)"
   ]
  },
  {
   "cell_type": "code",
   "execution_count": 33,
   "metadata": {
    "id": "ymopWnQKlhJH"
   },
   "outputs": [],
   "source": [
    "best_model = grid.fit(x_train_new, y_train_new)"
   ]
  },
  {
   "cell_type": "code",
   "execution_count": 35,
   "metadata": {
    "colab": {
     "base_uri": "https://localhost:8080/"
    },
    "id": "jkjKwmbelnVN",
    "outputId": "3530058c-2473-4f7f-8020-240fcfb31a33"
   },
   "outputs": [
    {
     "data": {
      "text/plain": [
       "{'copy_X': True,\n",
       " 'fit_intercept': True,\n",
       " 'n_jobs': None,\n",
       " 'normalize': True,\n",
       " 'positive': True}"
      ]
     },
     "execution_count": 35,
     "metadata": {},
     "output_type": "execute_result"
    }
   ],
   "source": [
    "best_model.best_params_"
   ]
  },
  {
   "cell_type": "markdown",
   "metadata": {
    "id": "z6FHXcKxltWT"
   },
   "source": [
    "## Simple Linear Regression (with hyperparameter)"
   ]
  },
  {
   "cell_type": "markdown",
   "metadata": {
    "id": "aCYPNmDIO6Yl"
   },
   "source": [
    "**fit the the best parameter that we get before to the model, copy_X': True,\n",
    " 'fit_intercept': True,  'n_jobs': None,  'normalize': True, and 'positive': True**"
   ]
  },
  {
   "cell_type": "code",
   "execution_count": 51,
   "metadata": {
    "id": "fHNHoUIdlyQW"
   },
   "outputs": [],
   "source": [
    "regressor_new = LinearRegression(positive=True, normalize=True, n_jobs=None, fit_intercept=True, copy_X=True)"
   ]
  },
  {
   "cell_type": "code",
   "execution_count": 52,
   "metadata": {
    "id": "gEG62WlzmC-5"
   },
   "outputs": [],
   "source": [
    "model_new = regressor_new.fit(x_train_new, y_train_new)"
   ]
  },
  {
   "cell_type": "code",
   "execution_count": 53,
   "metadata": {
    "id": "BfZ2aIx2mNBY"
   },
   "outputs": [],
   "source": [
    "y_pred_new = regressor_new.predict(x_test_new)"
   ]
  },
  {
   "cell_type": "markdown",
   "metadata": {
    "id": "HrJwRSILwRuh"
   },
   "source": [
    "# Evaluate Model"
   ]
  },
  {
   "cell_type": "markdown",
   "metadata": {
    "id": "YtmUR0QSPMo6"
   },
   "source": [
    "**we evaluate the model to get to know MAE, MAPE, RSME and R Square**"
   ]
  },
  {
   "cell_type": "markdown",
   "metadata": {
    "id": "x2_8t7I0ruCo"
   },
   "source": [
    "## Without Hypertuning"
   ]
  },
  {
   "cell_type": "markdown",
   "metadata": {
    "id": "12SvVoVDqwMC"
   },
   "source": [
    "**we wanna know the MAE (mean absolute error) a metric that tells us the mean absolute difference between the predicted values and the actual values in a dataset**"
   ]
  },
  {
   "cell_type": "code",
   "execution_count": 54,
   "metadata": {
    "colab": {
     "base_uri": "https://localhost:8080/"
    },
    "id": "GIHJBEgimhHu",
    "outputId": "475be128-9b13-4dc0-eef9-0b3fa31eff04"
   },
   "outputs": [
    {
     "data": {
      "text/plain": [
       "2.444420003751042"
      ]
     },
     "execution_count": 54,
     "metadata": {},
     "output_type": "execute_result"
    }
   ],
   "source": [
    "MAE = mean_absolute_error(y_test, y_pred)\n",
    "MAE"
   ]
  },
  {
   "cell_type": "markdown",
   "metadata": {
    "id": "mxmYWhTMQlTL"
   },
   "source": [
    "**we wanna know the MAPE (mean absolute percentage error) a metric that tells us measures accuracy of a forecast system**"
   ]
  },
  {
   "cell_type": "code",
   "execution_count": 55,
   "metadata": {
    "colab": {
     "base_uri": "https://localhost:8080/"
    },
    "id": "vqQhdT2AmhHv",
    "outputId": "5de37563-b226-411c-aa53-9a4f09aeca2b"
   },
   "outputs": [
    {
     "data": {
      "text/plain": [
       "0.1866874631359211"
      ]
     },
     "execution_count": 55,
     "metadata": {},
     "output_type": "execute_result"
    }
   ],
   "source": [
    "MAPE = mean_absolute_percentage_error(y_test, y_pred)\n",
    "MAPE"
   ]
  },
  {
   "cell_type": "markdown",
   "metadata": {
    "id": "lzpKuT9jQ6md"
   },
   "source": [
    "**we wanna know the RMSE (rooam mean squared error) or it can be interpreted as the standard deviation of the unexplained variance**"
   ]
  },
  {
   "cell_type": "code",
   "execution_count": 56,
   "metadata": {
    "colab": {
     "base_uri": "https://localhost:8080/"
    },
    "id": "iS-BBwU5mhHv",
    "outputId": "c0dc3a30-9c36-41bb-f3bb-6f047fd9f82d"
   },
   "outputs": [
    {
     "data": {
      "text/plain": [
       "3.194472431998898"
      ]
     },
     "execution_count": 56,
     "metadata": {},
     "output_type": "execute_result"
    }
   ],
   "source": [
    "RMSE = np.sqrt(mean_squared_error(y_test, y_pred))\n",
    "RMSE"
   ]
  },
  {
   "cell_type": "markdown",
   "metadata": {
    "id": "mZvKD30CRPMx"
   },
   "source": [
    "**we wanna know the R square, a statistical measure in a regression model that determines the proportion of variance in the dependent variable that can be explained by the independent variable**"
   ]
  },
  {
   "cell_type": "code",
   "execution_count": 57,
   "metadata": {
    "colab": {
     "base_uri": "https://localhost:8080/"
    },
    "id": "1fqjMCrymhHv",
    "outputId": "7e199c4e-a376-478c-d55a-20faf06f84cf"
   },
   "outputs": [
    {
     "data": {
      "text/plain": [
       "0.6766954295627077"
      ]
     },
     "execution_count": 57,
     "metadata": {},
     "output_type": "execute_result"
    }
   ],
   "source": [
    "R2 = r2_score(y_test, y_pred)\n",
    "R2"
   ]
  },
  {
   "cell_type": "markdown",
   "metadata": {
    "id": "Zlo71u_6C8xu"
   },
   "source": [
    "### Evaluate model\n",
    "Based on the results of the evaluation that has been carried out, we can see that **the MAE value is 2.44**, the smaller the MAE value, the more accurate the model used. The MAPE value is 0.18 or 18%, this figure indicates the percentage error of the predictions made, the smaller the percentage error value in MAPE, the more accurate the forecasting results, **for MAPE is  18% it is known that the predictions made are still classified as good for prediction**. **The RMSE value is 3.19**, RMSE indicates that the variation in values ​​produced by a forecast model is close to the variation in the observed value. RMSE measures how different the sets of values ​​are. The smaller the RMSE value, the closer the predicted and detected values ​​are. **The value of R2 is 0.67 or 67%**, R square has a value between 0 – 1 provided that the closer to number one means the better, R2 has a value of 0.67, meaning that **67% of the distribution of the dependent variable can be explained by the independent variable**. The remaining 33% cannot be explained by independent variables or can be explained by variables outside the independent variables (component errors)."
   ]
  },
  {
   "cell_type": "markdown",
   "metadata": {
    "id": "60wP91RPmizK"
   },
   "source": [
    "## With Hypertuning"
   ]
  },
  {
   "cell_type": "markdown",
   "metadata": {
    "id": "2theX-3hth-i"
   },
   "source": [
    "**we wanna know the MAE (mean absolute error) a metric that tells us the mean absolute difference between the predicted values and the actual values in a dataset**"
   ]
  },
  {
   "cell_type": "code",
   "execution_count": 58,
   "metadata": {
    "colab": {
     "base_uri": "https://localhost:8080/"
    },
    "id": "6RWzJaiMwRuh",
    "outputId": "70490ca8-2304-4b55-f746-d88c20bbd4cf"
   },
   "outputs": [
    {
     "data": {
      "text/plain": [
       "2.4444200037510426"
      ]
     },
     "execution_count": 58,
     "metadata": {},
     "output_type": "execute_result"
    }
   ],
   "source": [
    "MAE_new = mean_absolute_error(y_test_new, y_pred_new)\n",
    "MAE_new"
   ]
  },
  {
   "cell_type": "markdown",
   "metadata": {
    "id": "A91WhXzuS3E0"
   },
   "source": [
    "**we wanna know the MAPE (mean absolute percentage error) a metric that tells us measures accuracy of a forecast system**"
   ]
  },
  {
   "cell_type": "code",
   "execution_count": 59,
   "metadata": {
    "colab": {
     "base_uri": "https://localhost:8080/"
    },
    "id": "PXXhFbUDwRui",
    "outputId": "d8052427-e99e-43ae-ff9d-ccc7f09c74e7"
   },
   "outputs": [
    {
     "data": {
      "text/plain": [
       "0.18668746313592113"
      ]
     },
     "execution_count": 59,
     "metadata": {},
     "output_type": "execute_result"
    }
   ],
   "source": [
    "MAPE_new = mean_absolute_percentage_error(y_test_new, y_pred_new)\n",
    "MAPE_new"
   ]
  },
  {
   "cell_type": "markdown",
   "metadata": {
    "id": "npoqG7BHTDB7"
   },
   "source": [
    "**we wanna know the RMSE (rooam mean squared error) or it can be interpreted as the standard deviation of the unexplained variance**\n"
   ]
  },
  {
   "cell_type": "code",
   "execution_count": 60,
   "metadata": {
    "colab": {
     "base_uri": "https://localhost:8080/"
    },
    "id": "jKsWRS1hw5EP",
    "outputId": "6f9b4d4e-7076-4f2b-dc23-e7f99a5402df"
   },
   "outputs": [
    {
     "data": {
      "text/plain": [
       "3.194472431998898"
      ]
     },
     "execution_count": 60,
     "metadata": {},
     "output_type": "execute_result"
    }
   ],
   "source": [
    "RMSE_new = np.sqrt(mean_squared_error(y_test_new, y_pred_new))\n",
    "RMSE"
   ]
  },
  {
   "cell_type": "markdown",
   "metadata": {
    "id": "EJ1sfgpXTJNK"
   },
   "source": [
    "**we wanna know the R square, a statistical measure in a regression model that determines the proportion of variance in the dependent variable that can be explained by the independent variable**"
   ]
  },
  {
   "cell_type": "code",
   "execution_count": 61,
   "metadata": {
    "colab": {
     "base_uri": "https://localhost:8080/"
    },
    "id": "wf_vzteDxEGy",
    "outputId": "2218cf3f-3614-47f8-ef26-de70fe1a7703"
   },
   "outputs": [
    {
     "data": {
      "text/plain": [
       "0.6766954295627075"
      ]
     },
     "execution_count": 61,
     "metadata": {},
     "output_type": "execute_result"
    }
   ],
   "source": [
    "R2_new = r2_score(y_test_new, y_pred_new)\n",
    "R2_new"
   ]
  },
  {
   "cell_type": "markdown",
   "metadata": {
    "id": "64G99xOfToFq"
   },
   "source": [
    "Based on the results of the evaluation that has been carried out, we can see that **the MAE value is 2.44**, the smaller the MAE value, the more accurate the model used. The MAPE value is 0.18 or 18%, this figure indicates the percentage error of the predictions made, the smaller the percentage error value in MAPE, the more accurate the forecasting results, **for MAPE is  18% it is known that the predictions made are still classified as good for prediction**. **The RMSE value is 3.19**, RMSE indicates that the variation in values ​​produced by a forecast model is close to the variation in the observed value. RMSE measures how different the sets of values ​​are. The smaller the RMSE value, the closer the predicted and detected values ​​are. **The value of R2 is 0.67 or 67%**, R square has a value between 0 – 1 provided that the closer to number one means the better, R2 has a value of 0.67, meaning that **67% of the distribution of the dependent variable can be explained by the independent variable**. The remaining 33% cannot be explained by independent variables or can be explained by variables outside the independent variables (component errors).\n",
    "\n",
    "There is no difference in the evaluation value of the data that we do the hyperparameter tuning and not"
   ]
  },
  {
   "cell_type": "markdown",
   "metadata": {
    "id": "duBKHjkwDLba"
   },
   "source": [
    "## Compare"
   ]
  },
  {
   "cell_type": "markdown",
   "metadata": {
    "id": "k6otj9NnTWGh"
   },
   "source": [
    "**we wanna know the difference between the model that use hyperparameter tuning and not**"
   ]
  },
  {
   "cell_type": "code",
   "execution_count": 62,
   "metadata": {
    "colab": {
     "base_uri": "https://localhost:8080/",
     "height": 112
    },
    "id": "x_-yGaXHDN_a",
    "outputId": "1974accd-bfc7-4f3b-b56a-4118246fb64c"
   },
   "outputs": [
    {
     "data": {
      "text/html": [
       "<div>\n",
       "<style scoped>\n",
       "    .dataframe tbody tr th:only-of-type {\n",
       "        vertical-align: middle;\n",
       "    }\n",
       "\n",
       "    .dataframe tbody tr th {\n",
       "        vertical-align: top;\n",
       "    }\n",
       "\n",
       "    .dataframe thead th {\n",
       "        text-align: right;\n",
       "    }\n",
       "</style>\n",
       "<table border=\"1\" class=\"dataframe\">\n",
       "  <thead>\n",
       "    <tr style=\"text-align: right;\">\n",
       "      <th></th>\n",
       "      <th>RMSE</th>\n",
       "      <th>Values</th>\n",
       "    </tr>\n",
       "  </thead>\n",
       "  <tbody>\n",
       "    <tr>\n",
       "      <th>0</th>\n",
       "      <td>Without</td>\n",
       "      <td>3.194472</td>\n",
       "    </tr>\n",
       "    <tr>\n",
       "      <th>1</th>\n",
       "      <td>with</td>\n",
       "      <td>3.194472</td>\n",
       "    </tr>\n",
       "  </tbody>\n",
       "</table>\n",
       "</div>"
      ],
      "text/plain": [
       "      RMSE    Values\n",
       "0  Without  3.194472\n",
       "1     with  3.194472"
      ]
     },
     "execution_count": 62,
     "metadata": {},
     "output_type": "execute_result"
    }
   ],
   "source": [
    "RMSE_comp = pd.DataFrame({\n",
    "    \"RMSE\" : [\"Without\", \"with\"],\n",
    "    \"Values\" :  [RMSE, RMSE_new]\n",
    "})\n",
    "\n",
    "RMSE_comp"
   ]
  },
  {
   "cell_type": "markdown",
   "metadata": {
    "id": "5LwMhYE6EA5-"
   },
   "source": [
    "There is no difference in the RSME results, which use hypertuning or do not produce a value of 3.19"
   ]
  },
  {
   "cell_type": "code",
   "execution_count": 63,
   "metadata": {
    "colab": {
     "base_uri": "https://localhost:8080/",
     "height": 112
    },
    "id": "e4j181XoDn2q",
    "outputId": "1d8fbec6-884a-492a-a08e-c492b0dbc01a"
   },
   "outputs": [
    {
     "data": {
      "text/html": [
       "<div>\n",
       "<style scoped>\n",
       "    .dataframe tbody tr th:only-of-type {\n",
       "        vertical-align: middle;\n",
       "    }\n",
       "\n",
       "    .dataframe tbody tr th {\n",
       "        vertical-align: top;\n",
       "    }\n",
       "\n",
       "    .dataframe thead th {\n",
       "        text-align: right;\n",
       "    }\n",
       "</style>\n",
       "<table border=\"1\" class=\"dataframe\">\n",
       "  <thead>\n",
       "    <tr style=\"text-align: right;\">\n",
       "      <th></th>\n",
       "      <th>MAE</th>\n",
       "      <th>Values</th>\n",
       "    </tr>\n",
       "  </thead>\n",
       "  <tbody>\n",
       "    <tr>\n",
       "      <th>0</th>\n",
       "      <td>Without</td>\n",
       "      <td>2.44442</td>\n",
       "    </tr>\n",
       "    <tr>\n",
       "      <th>1</th>\n",
       "      <td>with</td>\n",
       "      <td>2.44442</td>\n",
       "    </tr>\n",
       "  </tbody>\n",
       "</table>\n",
       "</div>"
      ],
      "text/plain": [
       "       MAE   Values\n",
       "0  Without  2.44442\n",
       "1     with  2.44442"
      ]
     },
     "execution_count": 63,
     "metadata": {},
     "output_type": "execute_result"
    }
   ],
   "source": [
    "MAE_comp = pd.DataFrame({\n",
    "    \"MAE\" : [\"Without\", \"with\"],\n",
    "    \"Values\" :  [MAE, MAE_new]\n",
    "})\n",
    "\n",
    "MAE_comp"
   ]
  },
  {
   "cell_type": "markdown",
   "metadata": {
    "id": "mIxwCSK8EPIE"
   },
   "source": [
    "Same with RSME, the use of hypertuning has no effect on producing MAE values, so the average difference between actual and predict data is 2.44"
   ]
  },
  {
   "cell_type": "code",
   "execution_count": 64,
   "metadata": {
    "colab": {
     "base_uri": "https://localhost:8080/",
     "height": 112
    },
    "id": "lCyjgcWxDtLS",
    "outputId": "b34617c5-ddb1-438a-8b6c-c1bb2882ab94"
   },
   "outputs": [
    {
     "data": {
      "text/html": [
       "<div>\n",
       "<style scoped>\n",
       "    .dataframe tbody tr th:only-of-type {\n",
       "        vertical-align: middle;\n",
       "    }\n",
       "\n",
       "    .dataframe tbody tr th {\n",
       "        vertical-align: top;\n",
       "    }\n",
       "\n",
       "    .dataframe thead th {\n",
       "        text-align: right;\n",
       "    }\n",
       "</style>\n",
       "<table border=\"1\" class=\"dataframe\">\n",
       "  <thead>\n",
       "    <tr style=\"text-align: right;\">\n",
       "      <th></th>\n",
       "      <th>MAPE</th>\n",
       "      <th>Values</th>\n",
       "    </tr>\n",
       "  </thead>\n",
       "  <tbody>\n",
       "    <tr>\n",
       "      <th>0</th>\n",
       "      <td>Without</td>\n",
       "      <td>0.186687</td>\n",
       "    </tr>\n",
       "    <tr>\n",
       "      <th>1</th>\n",
       "      <td>with</td>\n",
       "      <td>0.186687</td>\n",
       "    </tr>\n",
       "  </tbody>\n",
       "</table>\n",
       "</div>"
      ],
      "text/plain": [
       "      MAPE    Values\n",
       "0  Without  0.186687\n",
       "1     with  0.186687"
      ]
     },
     "execution_count": 64,
     "metadata": {},
     "output_type": "execute_result"
    }
   ],
   "source": [
    "MAPE_comp = pd.DataFrame({\n",
    "    \"MAPE\" : [\"Without\", \"with\"],\n",
    "    \"Values\" :  [MAPE, MAPE_new]\n",
    "})\n",
    "\n",
    "MAPE_comp"
   ]
  },
  {
   "cell_type": "markdown",
   "metadata": {
    "id": "JEKpf8oPEez6"
   },
   "source": [
    "The use of hyperparameter tuning on the MAPE value has a value of 0.186, this is the same as not using hyperparameter tuning"
   ]
  },
  {
   "cell_type": "code",
   "execution_count": 65,
   "metadata": {
    "colab": {
     "base_uri": "https://localhost:8080/",
     "height": 112
    },
    "id": "KQPBQ9AbDyK0",
    "outputId": "1f4c26b0-573a-4758-fa58-b36816122676"
   },
   "outputs": [
    {
     "data": {
      "text/html": [
       "<div>\n",
       "<style scoped>\n",
       "    .dataframe tbody tr th:only-of-type {\n",
       "        vertical-align: middle;\n",
       "    }\n",
       "\n",
       "    .dataframe tbody tr th {\n",
       "        vertical-align: top;\n",
       "    }\n",
       "\n",
       "    .dataframe thead th {\n",
       "        text-align: right;\n",
       "    }\n",
       "</style>\n",
       "<table border=\"1\" class=\"dataframe\">\n",
       "  <thead>\n",
       "    <tr style=\"text-align: right;\">\n",
       "      <th></th>\n",
       "      <th>R2</th>\n",
       "      <th>Values</th>\n",
       "    </tr>\n",
       "  </thead>\n",
       "  <tbody>\n",
       "    <tr>\n",
       "      <th>0</th>\n",
       "      <td>Without</td>\n",
       "      <td>0.676695</td>\n",
       "    </tr>\n",
       "    <tr>\n",
       "      <th>1</th>\n",
       "      <td>with</td>\n",
       "      <td>0.676695</td>\n",
       "    </tr>\n",
       "  </tbody>\n",
       "</table>\n",
       "</div>"
      ],
      "text/plain": [
       "        R2    Values\n",
       "0  Without  0.676695\n",
       "1     with  0.676695"
      ]
     },
     "execution_count": 65,
     "metadata": {},
     "output_type": "execute_result"
    }
   ],
   "source": [
    "R2_comp = pd.DataFrame({\n",
    "    \"R2\" : [\"Without\", \"with\"],\n",
    "    \"Values\" :  [R2, R2_new]\n",
    "})\n",
    "\n",
    "R2_comp"
   ]
  },
  {
   "cell_type": "markdown",
   "metadata": {
    "id": "1tRVZ3dbE2bl"
   },
   "source": [
    "There is no difference so whether or not using hyperparameters is good.\n",
    "\n",
    "The model that was performed by hyperparameter tuning showed no difference in values ​​for MAE, MAPE and RSME, which means that the use of hyperparameters in this dataset does not have to be done."
   ]
  },
  {
   "cell_type": "markdown",
   "metadata": {
    "id": "1t0xs1zY32Xi"
   },
   "source": [
    "# Deployment"
   ]
  },
  {
   "cell_type": "markdown",
   "metadata": {
    "id": "ugPJIPe9Iq3b"
   },
   "source": [
    "**Deployment using MLflow, MLflow is an open-source library for managing the lifecycle of your machine learning experiments. MLflow Tracking is a component of MLflow that logs and tracks your training job metrics and model artifacts, no matter your experiment's environment--locally on your computer, on a remote compute target**"
   ]
  },
  {
   "cell_type": "code",
   "execution_count": 66,
   "metadata": {
    "colab": {
     "base_uri": "https://localhost:8080/"
    },
    "id": "43cIIcdq4kde",
    "outputId": "6142e964-f28b-41b0-927b-7543d6c1d09a"
   },
   "outputs": [
    {
     "name": "stdout",
     "output_type": "stream",
     "text": [
      "  RMSE: 3.194472431998898\n",
      "  MAE: 2.444420003751042\n",
      "  MAPE: 0.1866874631359211\n",
      "  R2: 0.6766954295627077\n"
     ]
    }
   ],
   "source": [
    "# Data Profiling\n",
    "\n",
    "# Import Packages\n",
    "\n",
    "import logging\n",
    "import mlflow.sklearn\n",
    "import mlflow\n",
    "from urllib.parse import urlparse\n",
    "import os\n",
    "import warnings\n",
    "import sys\n",
    "\n",
    "import pandas as pd\n",
    "import numpy as np\n",
    "from sklearn.linear_model import LinearRegression\n",
    "from sklearn.model_selection import train_test_split\n",
    "from sklearn.metrics import mean_squared_error, mean_absolute_error, mean_absolute_percentage_error, r2_score\n",
    "\n",
    "from sklearn.metrics import mean_absolute_error\n",
    "from sklearn.metrics import mean_absolute_percentage_error\n",
    "\n",
    "# mematikan git\n",
    "os.environ[\"GIT_PYTHON_REFRESH\"] = \"quiet\"\n",
    "import git\n",
    "\n",
    "import warnings\n",
    "warnings.filterwarnings('ignore')\n",
    "\n",
    "\n",
    "logging.basicConfig(level=logging.WARN)\n",
    "logger = logging.getLogger(__name__)\n",
    "\n",
    "if __name__ == \"__main__\":\n",
    "    warnings.filterwarnings(\"ignore\")\n",
    "    np.random.seed(40)\n",
    "\n",
    "# Load Dataset\n",
    "\n",
    "df = pd.read_csv('tvmarketing.csv')\n",
    "\n",
    "# Preprocessing Modeling\n",
    "\n",
    "x = df.drop(['Sales'], axis=1)\n",
    "y = df['Sales']\n",
    "\n",
    "# Splitting and Train Data\n",
    "\n",
    "X_train, X_test, y_train, y_test = train_test_split(\n",
    "    x, y, train_size=0.8, random_state=42)\n",
    "\n",
    "\n",
    "# Eval Metrics\n",
    "\n",
    "def eval_metrics(actual, pred):\n",
    "    rmse = np.sqrt(mean_squared_error(actual, pred))\n",
    "    mae = mean_absolute_error(actual, pred)\n",
    "    mape = mean_absolute_percentage_error(actual, pred)\n",
    "    r2 = r2_score(actual, pred)\n",
    "    return rmse, mae, mape, r2\n",
    "\n",
    "# Modeling\n",
    "\n",
    "with mlflow.start_run():\n",
    "    lr = LinearRegression()\n",
    "    lr.fit(X_train, y_train)\n",
    "\n",
    "    y_pred = lr.predict(X_test)\n",
    "\n",
    "    (rmse, mae, mape, r2) = eval_metrics(y_test, y_pred)\n",
    "\n",
    "    print(\"  RMSE: %s\" % rmse)\n",
    "    print(\"  MAE: %s\" % mae)\n",
    "    print(\"  MAPE: %s\" % mape)\n",
    "    print(\"  R2: %s\" % r2)\n",
    "\n",
    "    mlflow.log_metric(\"rmse\", rmse)\n",
    "    mlflow.log_metric(\"mae\", mae)\n",
    "    mlflow.log_metric(\"mape\", mape)\n",
    "    mlflow.log_metric(\"r2\", r2)\n",
    "\n",
    "    tracking_url_type_store = urlparse(mlflow.get_tracking_uri()).scheme\n",
    "\n",
    "    if tracking_url_type_store != \"file\":\n",
    "        mlflow.sklearn.log_model(\n",
    "            lr, \"model\", registered_model_name=\"Linear Regression\")\n",
    "    else:\n",
    "        mlflow.sklearn.log_model(lr, \"model\")"
   ]
  },
  {
   "cell_type": "markdown",
   "metadata": {
    "id": "dCr2MCRuxXSW"
   },
   "source": [
    "# Result"
   ]
  },
  {
   "cell_type": "markdown",
   "metadata": {
    "id": "ueDIWeM4z_Vm"
   },
   "source": [
    "1. From the analysis of tvmarketing data which contains 200 lines, the average cost spent on the TV marketing budget is **\\$147.04** with the lowest cost spending **\\$0.7** and the highest cost **\\$296.4**, and the average sales is**\\$14.02** with a lowest is **\\$1.6** and the highest is **\\$27**.\n",
    "\n",
    "2. Based on the graph above distribution of marketing budget 'TV' has the highest density of marketing Budget which is **\\$200** dollars\n",
    "\n",
    "3. Based on the data above, we can see that 'Sales' are mostly or have the highest density at values ​​of **\\$10-15**\n",
    "\n",
    "4. Based on the graph above, we can see that the Sales and Marketing Budget of TV has a correlation, where the **higher the marketing costs** , **the greater the sales**. However, from the graph above there is also data that has high marketing costs but has low sales\n",
    "\n",
    "5. From the graph above we can see that there is a positive relationship between the train data and the predictive data, the red dot indicates the train data which is close to the blue line (predictive data). This shows that **the model used is good enough** for sales predictions from the tvmarketing dataset.\n",
    "\n",
    "6. Based on the results of the evaluation that has been carried out, we can see that **the MAE value is 2.44**, the smaller the MAE value, the more accurate the model used. The MAPE value is 0.18 or 18%, this figure indicates the percentage error of the predictions made, the smaller the percentage error value in MAPE, the more accurate the forecasting results, **for MAPE is  18% it is known that the predictions made are still classified as good for prediction**. **The RMSE value is 3.19**, RMSE indicates that the variation in values ​​produced by a forecast model is close to the variation in the observed value. RMSE measures how different the sets of values ​​are. The smaller the RMSE value, the closer the predicted and detected values ​​are. **The value of R2 is 0.67 or 67%**, R square has a value between 0 – 1 provided that the closer to number one means the better, R2 has a value of 0.67, meaning that **67% of the distribution of the dependent variable can be explained by the independent variable**. The remaining 33% cannot be explained by independent variables or can be explained by variables outside the independent variables (component errors).\n",
    "\n",
    "There is no difference in the evaluation value of the data that we do the hyperparameter tuning and not\n"
   ]
  },
  {
   "cell_type": "markdown",
   "metadata": {
    "id": "gWXneWQ94FPJ"
   },
   "source": [
    "# Recommendation"
   ]
  },
  {
   "cell_type": "markdown",
   "metadata": {
    "id": "9zx_4g2sxYoB"
   },
   "source": [
    "Companies can optimize marketing budget costs for marketing in order to get high profits, optimizing marketing costs does not have to use large costs because it can be seen from the data that there is a large marketing budget but low selling prices\n"
   ]
  },
  {
   "cell_type": "markdown",
   "metadata": {
    "id": "CJ2g9HsY4La2"
   },
   "source": [
    "# Deployment"
   ]
  },
  {
   "cell_type": "markdown",
   "metadata": {
    "id": "diuE6xhtBaJs"
   },
   "source": [
    "MLflow is a platform to streamline machine learning development, including tracking experiments, packaging code into reproducible runs, and sharing and deploying models. MLflow offers a set of lightweight APIs that can be used with any existing machine learning application or library (TensorFlow, PyTorch, XGBoost, etc), wherever you currently run ML code (e.g. in notebooks, standalone applications or the cloud). MLflow's current components are:\n",
    "\n",
    "* MLflow Tracking: An API to log parameters, code, and results in machine learning experiments and compare them using an interactive UI.\n",
    "* MLflow Projects: A code packaging format for reproducible runs using Conda and Docker, so you can share your ML code with others.\n",
    "* MLflow Models: A model packaging format and tools that let you easily deploy the same model (from any ML library) to batch and real-time scoring on platforms such as Docker, Apache Spark, Azure ML and AWS SageMaker.\n",
    "* MLflow Model Registry: A centralized model store, set of APIs, and UI, to collaboratively manage the full lifecycle of MLflow Models.\n",
    "\n",
    "\n",
    "**In the above data the use of mlflow is very useful for tracking the above model to predict the MAPE, MAE, RMSE and R2 Scores from implementing Linear Regression on this data. Model tracking is also to maintain model consistency if new data is entered**\n"
   ]
  }
 ],
 "metadata": {
  "colab": {
   "collapsed_sections": [
    "Zlo71u_6C8xu"
   ],
   "provenance": []
  },
  "kernelspec": {
   "display_name": "Python 3 (ipykernel)",
   "language": "python",
   "name": "python3"
  },
  "language_info": {
   "codemirror_mode": {
    "name": "ipython",
    "version": 3
   },
   "file_extension": ".py",
   "mimetype": "text/x-python",
   "name": "python",
   "nbconvert_exporter": "python",
   "pygments_lexer": "ipython3",
   "version": "3.9.12"
  },
  "vscode": {
   "interpreter": {
    "hash": "26de051ba29f2982a8de78e945f0abaf191376122a1563185a90213a26c5da77"
   }
  }
 },
 "nbformat": 4,
 "nbformat_minor": 1
}
